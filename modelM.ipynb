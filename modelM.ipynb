{
 "cells": [
  {
   "cell_type": "code",
   "execution_count": 2,
   "id": "6ff41b85-b0ee-4ad9-9829-85dd274ad0d9",
   "metadata": {},
   "outputs": [],
   "source": [
    "import numpy as np\n",
    "import pandas as pd\n",
    "import matplotlib.pyplot as plt\n",
    "import random\n",
    "\n",
    "import torch\n",
    "import torch.nn as nn\n",
    "import torch.optim as optim\n",
    "from torch.utils.data import Dataset, DataLoader\n",
    "from torch_geometric.data import Data, Batch\n",
    "from tqdm import tqdm\n",
    "import torch.nn.functional as F\n"
   ]
  },
  {
   "cell_type": "code",
   "execution_count": 3,
   "id": "0166d8cc-be19-4ae6-b023-0f21d8a0814e",
   "metadata": {},
   "outputs": [
    {
     "name": "stdout",
     "output_type": "stream",
     "text": [
      "Apple GPU\n"
     ]
    }
   ],
   "source": [
    "if torch.backends.mps.is_available():\n",
    "    device = torch.device('mps')\n",
    "    print(\"Apple GPU\")\n",
    "elif torch.cuda.is_available():\n",
    "    device = torch.device('cuda')\n",
    "    print(\"CUDA GPU\")\n",
    "else:\n",
    "    device = torch.device('cpu')"
   ]
  },
  {
   "cell_type": "code",
   "execution_count": 4,
   "id": "050ed1e1-5829-487e-a06d-703d6df8215a",
   "metadata": {},
   "outputs": [
    {
     "name": "stdout",
     "output_type": "stream",
     "text": [
      "Training Data's shape is (10000, 50, 110, 6) and Test Data's is (2100, 50, 50, 6)\n"
     ]
    }
   ],
   "source": [
    "def getData(path):\n",
    "    train_file = np.load(path+\"/train.npz\")\n",
    "    train_data = train_file['data']\n",
    "    test_file = np.load(path+\"/test_input.npz\")\n",
    "    test_data = test_file['data']\n",
    "    print(f\"Training Data's shape is {train_data.shape} and Test Data's is {test_data.shape}\")\n",
    "    return train_data, test_data\n",
    "trainData, testData = getData(\"./data/\")"
   ]
  },
  {
   "cell_type": "code",
   "execution_count": 5,
   "id": "e67af5bc",
   "metadata": {},
   "outputs": [],
   "source": [
    "class WindowedNormalizedDataset(Dataset):\n",
    "    def __init__(self, data):\n",
    "        self.data = data\n",
    "        \n",
    "    def __len__(self):\n",
    "        return len(self.data)\n",
    "\n",
    "    def __getitem__(self, idx):\n",
    "        scene = self.data[idx]\n",
    "        X = scene[:, :50, :].copy()\n",
    "        Y = scene[0, 50:, :2].copy()\n",
    "        origin = X[0, 49, :2].copy()\n",
    "        return torch.tensor(X, dtype=torch.float32), torch.tensor(Y, dtype=torch.float32), torch.tensor(origin, dtype=torch.float32)"
   ]
  },
  {
   "cell_type": "code",
   "execution_count": 6,
   "id": "a73380ea-c577-45e3-ae0c-8646e15b97fd",
   "metadata": {},
   "outputs": [
    {
     "data": {
      "text/plain": [
       "array([ 338.59322192, -672.21574762,   -5.32538052,    1.61518358,\n",
       "          2.84662927,    0.        ])"
      ]
     },
     "execution_count": 6,
     "metadata": {},
     "output_type": "execute_result"
    }
   ],
   "source": [
    "trainData[0,0,0,:]"
   ]
  },
  {
   "cell_type": "code",
   "execution_count": null,
   "id": "7c068e26-0ac7-4453-aaad-927b1f8badb2",
   "metadata": {},
   "outputs": [
    {
     "name": "stdout",
     "output_type": "stream",
     "text": [
      "torch.Size([128, 60, 2])\n",
      "Total parameters: 342252\n"
     ]
    }
   ],
   "source": [
    "class EncoderDecoderModel(nn.Module):\n",
    "    def __init__(self, infeatures = 6, outfeatures = 2):\n",
    "        super().__init__()\n",
    "        self.input_upsample = nn.ConvTranspose1d(\n",
    "            in_channels=infeatures,\n",
    "            out_channels=infeatures,\n",
    "            kernel_size=13,\n",
    "            stride=1,\n",
    "            padding=1,\n",
    "            output_padding=0\n",
    "        )\n",
    "        self.layer1 = nn.Linear(in_features = infeatures, out_features = 16)\n",
    "        self.layer2 = nn.Linear(in_features = 16, out_features = 32)\n",
    "        self.layer3 = nn.Linear(in_features = 32, out_features = 64)\n",
    "        self.encoderlstm = nn.LSTM(input_size = 64, hidden_size = 128, num_layers = 2, batch_first = True, dropout = 0.3)\n",
    "        self.relu = nn.ReLU()\n",
    "        self.decoderlstm = nn.LSTM(input_size = 128, hidden_size = 64, num_layers = 2, batch_first = True, dropout = 0.3)\n",
    "        self.layer10 = nn.Linear(in_features = 64, out_features = 32)\n",
    "        self.layer11 = nn.Linear(in_features = 32, out_features = 16)\n",
    "        self.layer12 = nn.Linear(in_features = 16, out_features = outfeatures)\n",
    "\n",
    "        # layer 1 and layer 12 skip\n",
    "        # layer 2 and layer 11 skip\n",
    "        # layer 3 and layer 10 skip\n",
    "        # encoder lstm to decoder lstm skip\n",
    "        self.skip1 = nn.Linear(in_features = 16, out_features = 16)\n",
    "        self.skip2 = nn.Linear(in_features = 32, out_features = 32)\n",
    "        self.skip3 = nn.Linear(in_features = 64, out_features = 64)\n",
    "        self.skip4 = nn.Linear(in_features = 128, out_features = 128)\n",
    "        \n",
    "\n",
    "    def forward(self, x):\n",
    "        # x = data.x\n",
    "        # print(x.shape)\n",
    "        batch_size, channels, height, width = x.shape\n",
    "        x = x[:, 0, :, :]\n",
    "        # x = F.interpolate(x.permute(0, 2, 1), size=60, mode='linear').permute(0, 2, 1)  # [128, 60, 6]\n",
    "        # batch_size, channels, height, width = x.shape\n",
    "        # x = x[:, 0, :, :]  # Shape: (batch, 50, 6)\n",
    "        \n",
    "        # Learnable upsampling from 50 to 60 time steps\n",
    "        x = x.permute(0, 2, 1)  # (batch, 6, 50)\n",
    "        x = self.input_upsample(x)  # (batch, 6, 60)\n",
    "        x = x.permute(0, 2, 1)  # (batch, 60, 6)\n",
    "\n",
    "\n",
    "        out1 = self.layer1(x)\n",
    "        out1 = nn.ReLU()(out1)\n",
    "        \n",
    "        out2 = self.layer2(out1)\n",
    "        out2 = nn.ReLU()(out2)\n",
    "        \n",
    "        out3 = self.layer3(out2)\n",
    "        out3 = nn.ReLU()(out3)\n",
    "        # print(\"out 3: \", out3.shape)\n",
    "        \n",
    "        out4, _ = self.encoderlstm(out3)\n",
    "        # print(\"lstm Last: \", out4[:, -1, :].shape)\n",
    "        # print(\"Out4 View : \", out4.view(batch_size, 60, batch_size))\n",
    "        # print(\"out 4: \", out4.shape)\n",
    "\n",
    "         \n",
    "        out5, _ = self.decoderlstm(out4)\n",
    "        # print(\"out 5: \", out5.shape)\n",
    "        \n",
    "        # print(out3_reduced.shape, out5.shape)\n",
    "        mlpskip1 = out3 + self.skip3(out5)\n",
    "        # print(\"MLP Skip 1: \", mlpskip1.shape)\n",
    "\n",
    "        out6 = self.layer10(mlpskip1)\n",
    "        out6 = nn.ReLU()(out6)\n",
    "        # print(\"Out6: \", out6.shape)\n",
    "\n",
    "        # out2_pooled = F.adaptive_avg_pool2d(out2.permute(0, 3, 1, 2), (60, 1))  # [128, 64, 20, 1]\n",
    "        # out2_reduced = out2_pooled.squeeze(-1).permute(0, 2, 1)  # [128, 20, 64]\n",
    "\n",
    "        mlpskip2 = out2 + self.skip2(out6)\n",
    "        # print(\"MLP Skip 2: \", mlpskip2.shape)\n",
    "        out7 = self.layer11(mlpskip2)\n",
    "        out7 = nn.ReLU()(out7)\n",
    "        # print(\"Out 7: \", out7.shape)\n",
    "\n",
    "        \n",
    "        mlpskip3 = out1 + self.skip1(out7)\n",
    "        # print(\"MLP Skip 3: \",mlpskip3.shape)\n",
    "        out8 = self.layer12(mlpskip3)\n",
    "        # print(\"Out 8: \", out7.shape)\n",
    "        # out9 = out.view(-1, 60, 2)\n",
    "        # print(\"Out 9: \", out9.shape)\n",
    "\n",
    "        return out8\n",
    "\n",
    "# model = EncoderDecoderModel(6, 2)\n",
    "model = EncoderDecoderModel()\n",
    "# model.apply(xavier_init_weights)\n",
    "\n",
    "test = torch.randn(128, 50, 50, 6)\n",
    "out = model(test)\n",
    "print(out.shape)\n",
    "total_params = sum(p.numel() for p in model.parameters())\n",
    "print(f\"Total parameters: {total_params}\")"
   ]
  },
  {
   "cell_type": "code",
   "execution_count": null,
   "id": "3080ce69-811a-4da8-b813-9e4724eb67d7",
   "metadata": {},
   "outputs": [
    {
     "name": "stdout",
     "output_type": "stream",
     "text": [
      "torch.Size([128, 60, 2])\n",
      "Total parameters: 280568\n"
     ]
    }
   ],
   "source": [
    "class SimpleModel(nn.Module):\n",
    "    def __init__(self, input_dim=6, hidden_dim=128, output_dim=60 * 2):\n",
    "        super(SimpleModel, self).__init__()\n",
    "        self.fc1 = nn.Linear(input_dim, hidden_dim)\n",
    "        # self.fc2 = nn.Linear(hidden_dim, 2*hidden_dim)\n",
    "        self.lstm1 = nn.LSTM(hidden_dim, hidden_dim, num_layers = 2, batch_first=True)\n",
    "        # self.lstm2 = nn.LSTM(2*hidden_dim, 2*hidden_dim, num_layers = 2, batch_first=True)\n",
    "        # self.fc3 = nn.Linear(2*hidden_dim, hidden_dim)\n",
    "        self.fc4 = nn.Linear(hidden_dim, output_dim)\n",
    "        \n",
    "\n",
    "    def forward(self, x):\n",
    "        # x = data.x\n",
    "        # print(x.shape)\n",
    "        x= x.reshape(-1, 50, 50, 6)  # (batch_size, num_agents, seq_len, input_dim)\n",
    "        x = x[:, 0, :, :] # Only Consider ego agent index 0\n",
    "\n",
    "        x = nn.ReLU()(self.fc1(x))\n",
    "        # x = nn.ReLU()(self.fc2(x))\n",
    "        x, _ = self.lstm1(x)\n",
    "        # x, _ = self.lstm2(x)\n",
    "        # x = nn.ReLU()(self.fc3(x))\n",
    "        \n",
    "        # print(\"LSTM Out: \", lstm_out.shape)\n",
    "        # lstm_out is of shape (batch_size, seq_len, hidden_dim) and we want the last time step output\n",
    "        # print(\"LSTM last: \", lstm_out[:, -1, :].shape)\n",
    "        out = self.fc4(x[:, -1, :])\n",
    "        return out.view(-1, 60, 2)\n",
    "\n",
    "model = SimpleModel()\n",
    "test = torch.randn(128, 50, 50, 6)\n",
    "out = model(test)\n",
    "print(out.shape)\n",
    "total_params = sum(p.numel() for p in model.parameters())\n",
    "print(f\"Total parameters: {total_params}\")"
   ]
  },
  {
   "cell_type": "code",
   "execution_count": null,
   "id": "9f92dc85-84eb-4a7f-b5fb-2c6088ec5a9b",
   "metadata": {},
   "outputs": [],
   "source": [
    "# model = EncoderDecoderModel().to(device)\n",
    "model = SimpleModel().to(device)\n",
    "# model = MLP(50 * 50 * 6, 60 * 2).to(device)\n",
    "# model = LSTM().to(device)\n",
    "\n",
    "optimizer = optim.Adam(model.parameters(), lr=1e-3, weight_decay=1e-4)\n",
    "# scheduler = optim.lr_scheduler.StepLR(optimizer, step_size=20, gamma=0.25) # You can try different schedulers\n",
    "early_stopping_patience = 10\n",
    "best_val_loss = float('inf')\n",
    "no_improvement = 0\n",
    "criterion = nn.MSELoss()"
   ]
  },
  {
   "cell_type": "code",
   "execution_count": null,
   "id": "ead416d9",
   "metadata": {},
   "outputs": [],
   "source": [
    "device = torch.device(\"cuda\" if torch.cuda.is_available() else \"cpu\")\n",
    "model = model.to(device)\n",
    "torch.manual_seed(42)\n",
    "val_ratio = 0.1\n",
    "N = len(trainData)\n",
    "val_size = int(val_ratio * N)\n",
    "train_size = N - val_size\n",
    "train_dataset = WindowedNormalizedDataset(trainData[:train_size])\n",
    "valid_dataset = WindowedNormalizedDataset(trainData[train_size:])\n",
    "# train_dataset.__len__(), valid_dataset.__len__()\n",
    "train_dataloader = DataLoader(train_dataset, batch_size=128, shuffle=True)\n",
    "val_dataloader = DataLoader(valid_dataset, batch_size=128, shuffle=False)\n",
    "# next(iter(train_dataloader))"
   ]
  },
  {
   "cell_type": "code",
   "execution_count": null,
   "id": "24b1031f-9875-407c-a515-67ed6d772c47",
   "metadata": {
    "scrolled": true
   },
   "outputs": [
    {
     "name": "stderr",
     "output_type": "stream",
     "text": [
      "Epoch [1/1000]: 100%|██████████| 71/71 [00:01<00:00, 68.81it/s]\n"
     ]
    },
    {
     "name": "stdout",
     "output_type": "stream",
     "text": [
      " train normalized MSE   0.3378 | val normalized MSE   0.2604 | val MAE   3.0064 | val MSE  26.0410\n"
     ]
    },
    {
     "name": "stderr",
     "output_type": "stream",
     "text": [
      "Epoch [2/1000]: 100%|██████████| 71/71 [00:01<00:00, 69.22it/s]\n"
     ]
    },
    {
     "name": "stdout",
     "output_type": "stream",
     "text": [
      " train normalized MSE   0.2211 | val normalized MSE   0.1884 | val MAE   2.4054 | val MSE  18.8430\n"
     ]
    },
    {
     "name": "stderr",
     "output_type": "stream",
     "text": [
      "Epoch [3/1000]: 100%|██████████| 71/71 [00:01<00:00, 69.12it/s]\n"
     ]
    },
    {
     "name": "stdout",
     "output_type": "stream",
     "text": [
      " train normalized MSE   0.1910 | val normalized MSE   0.1865 | val MAE   2.4042 | val MSE  18.6540\n"
     ]
    },
    {
     "name": "stderr",
     "output_type": "stream",
     "text": [
      "Epoch [4/1000]: 100%|██████████| 71/71 [00:00<00:00, 71.15it/s]\n"
     ]
    },
    {
     "name": "stdout",
     "output_type": "stream",
     "text": [
      " train normalized MSE   0.1733 | val normalized MSE   0.1632 | val MAE   2.2320 | val MSE  16.3232\n"
     ]
    },
    {
     "name": "stderr",
     "output_type": "stream",
     "text": [
      "Epoch [5/1000]: 100%|██████████| 71/71 [00:00<00:00, 72.57it/s]\n"
     ]
    },
    {
     "name": "stdout",
     "output_type": "stream",
     "text": [
      " train normalized MSE   0.1709 | val normalized MSE   0.1610 | val MAE   2.2479 | val MSE  16.1032\n"
     ]
    },
    {
     "name": "stderr",
     "output_type": "stream",
     "text": [
      "Epoch [6/1000]: 100%|██████████| 71/71 [00:01<00:00, 70.81it/s]\n"
     ]
    },
    {
     "name": "stdout",
     "output_type": "stream",
     "text": [
      " train normalized MSE   0.1547 | val normalized MSE   0.1459 | val MAE   2.0550 | val MSE  14.5899\n"
     ]
    },
    {
     "name": "stderr",
     "output_type": "stream",
     "text": [
      "Epoch [7/1000]: 100%|██████████| 71/71 [00:01<00:00, 69.74it/s]\n"
     ]
    },
    {
     "name": "stdout",
     "output_type": "stream",
     "text": [
      " train normalized MSE   0.1492 | val normalized MSE   0.1393 | val MAE   2.0572 | val MSE  13.9343\n"
     ]
    },
    {
     "name": "stderr",
     "output_type": "stream",
     "text": [
      "Epoch [8/1000]: 100%|██████████| 71/71 [00:00<00:00, 71.50it/s]\n"
     ]
    },
    {
     "name": "stdout",
     "output_type": "stream",
     "text": [
      " train normalized MSE   0.1410 | val normalized MSE   0.1260 | val MAE   1.8643 | val MSE  12.5983\n"
     ]
    },
    {
     "name": "stderr",
     "output_type": "stream",
     "text": [
      "Epoch [9/1000]: 100%|██████████| 71/71 [00:00<00:00, 72.05it/s]\n"
     ]
    },
    {
     "name": "stdout",
     "output_type": "stream",
     "text": [
      " train normalized MSE   0.1367 | val normalized MSE   0.1309 | val MAE   1.9857 | val MSE  13.0901\n"
     ]
    },
    {
     "name": "stderr",
     "output_type": "stream",
     "text": [
      "Epoch [10/1000]: 100%|██████████| 71/71 [00:00<00:00, 71.77it/s]\n"
     ]
    },
    {
     "name": "stdout",
     "output_type": "stream",
     "text": [
      " train normalized MSE   0.1323 | val normalized MSE   0.1271 | val MAE   1.8824 | val MSE  12.7082\n"
     ]
    },
    {
     "name": "stderr",
     "output_type": "stream",
     "text": [
      "Epoch [11/1000]: 100%|██████████| 71/71 [00:00<00:00, 72.05it/s]\n"
     ]
    },
    {
     "name": "stdout",
     "output_type": "stream",
     "text": [
      " train normalized MSE   0.1311 | val normalized MSE   0.1273 | val MAE   1.8635 | val MSE  12.7325\n"
     ]
    },
    {
     "name": "stderr",
     "output_type": "stream",
     "text": [
      "Epoch [12/1000]: 100%|██████████| 71/71 [00:00<00:00, 71.33it/s]\n"
     ]
    },
    {
     "name": "stdout",
     "output_type": "stream",
     "text": [
      " train normalized MSE   0.1335 | val normalized MSE   0.1314 | val MAE   1.9305 | val MSE  13.1359\n"
     ]
    },
    {
     "name": "stderr",
     "output_type": "stream",
     "text": [
      "Epoch [13/1000]: 100%|██████████| 71/71 [00:00<00:00, 72.68it/s]\n"
     ]
    },
    {
     "name": "stdout",
     "output_type": "stream",
     "text": [
      " train normalized MSE   0.1246 | val normalized MSE   0.1183 | val MAE   1.8372 | val MSE  11.8298\n"
     ]
    },
    {
     "name": "stderr",
     "output_type": "stream",
     "text": [
      "Epoch [14/1000]: 100%|██████████| 71/71 [00:01<00:00, 68.98it/s]\n"
     ]
    },
    {
     "name": "stdout",
     "output_type": "stream",
     "text": [
      " train normalized MSE   0.1231 | val normalized MSE   0.1200 | val MAE   1.8828 | val MSE  12.0042\n"
     ]
    },
    {
     "name": "stderr",
     "output_type": "stream",
     "text": [
      "Epoch [15/1000]: 100%|██████████| 71/71 [00:01<00:00, 67.23it/s]\n"
     ]
    },
    {
     "name": "stdout",
     "output_type": "stream",
     "text": [
      " train normalized MSE   0.1190 | val normalized MSE   0.1153 | val MAE   1.8449 | val MSE  11.5277\n"
     ]
    },
    {
     "name": "stderr",
     "output_type": "stream",
     "text": [
      "Epoch [16/1000]: 100%|██████████| 71/71 [00:01<00:00, 65.26it/s]\n"
     ]
    },
    {
     "name": "stdout",
     "output_type": "stream",
     "text": [
      " train normalized MSE   0.1179 | val normalized MSE   0.1122 | val MAE   1.7735 | val MSE  11.2237\n"
     ]
    },
    {
     "name": "stderr",
     "output_type": "stream",
     "text": [
      "Epoch [17/1000]: 100%|██████████| 71/71 [00:00<00:00, 71.96it/s]\n"
     ]
    },
    {
     "name": "stdout",
     "output_type": "stream",
     "text": [
      " train normalized MSE   0.1151 | val normalized MSE   0.1129 | val MAE   1.8015 | val MSE  11.2924\n"
     ]
    },
    {
     "name": "stderr",
     "output_type": "stream",
     "text": [
      "Epoch [18/1000]: 100%|██████████| 71/71 [00:00<00:00, 71.33it/s]\n"
     ]
    },
    {
     "name": "stdout",
     "output_type": "stream",
     "text": [
      " train normalized MSE   0.1136 | val normalized MSE   0.1100 | val MAE   1.7583 | val MSE  11.0015\n"
     ]
    },
    {
     "name": "stderr",
     "output_type": "stream",
     "text": [
      "Epoch [19/1000]: 100%|██████████| 71/71 [00:00<00:00, 71.91it/s]\n"
     ]
    },
    {
     "name": "stdout",
     "output_type": "stream",
     "text": [
      " train normalized MSE   0.1109 | val normalized MSE   0.1115 | val MAE   1.7518 | val MSE  11.1550\n"
     ]
    },
    {
     "name": "stderr",
     "output_type": "stream",
     "text": [
      "Epoch [20/1000]: 100%|██████████| 71/71 [00:00<00:00, 72.12it/s]\n"
     ]
    },
    {
     "name": "stdout",
     "output_type": "stream",
     "text": [
      " train normalized MSE   0.1116 | val normalized MSE   0.1162 | val MAE   1.8385 | val MSE  11.6218\n"
     ]
    },
    {
     "name": "stderr",
     "output_type": "stream",
     "text": [
      "Epoch [21/1000]: 100%|██████████| 71/71 [00:00<00:00, 71.73it/s]\n"
     ]
    },
    {
     "name": "stdout",
     "output_type": "stream",
     "text": [
      " train normalized MSE   0.1109 | val normalized MSE   0.1110 | val MAE   1.7412 | val MSE  11.0987\n"
     ]
    },
    {
     "name": "stderr",
     "output_type": "stream",
     "text": [
      "Epoch [22/1000]: 100%|██████████| 71/71 [00:00<00:00, 72.54it/s]\n"
     ]
    },
    {
     "name": "stdout",
     "output_type": "stream",
     "text": [
      " train normalized MSE   0.1088 | val normalized MSE   0.1069 | val MAE   1.6649 | val MSE  10.6851\n"
     ]
    },
    {
     "name": "stderr",
     "output_type": "stream",
     "text": [
      "Epoch [23/1000]: 100%|██████████| 71/71 [00:00<00:00, 72.36it/s]\n"
     ]
    },
    {
     "name": "stdout",
     "output_type": "stream",
     "text": [
      " train normalized MSE   0.1082 | val normalized MSE   0.1110 | val MAE   1.7771 | val MSE  11.0987\n"
     ]
    },
    {
     "name": "stderr",
     "output_type": "stream",
     "text": [
      "Epoch [24/1000]: 100%|██████████| 71/71 [00:00<00:00, 72.20it/s]\n"
     ]
    },
    {
     "name": "stdout",
     "output_type": "stream",
     "text": [
      " train normalized MSE   0.1067 | val normalized MSE   0.1104 | val MAE   1.7604 | val MSE  11.0356\n"
     ]
    },
    {
     "name": "stderr",
     "output_type": "stream",
     "text": [
      "Epoch [25/1000]: 100%|██████████| 71/71 [00:00<00:00, 72.30it/s]\n"
     ]
    },
    {
     "name": "stdout",
     "output_type": "stream",
     "text": [
      " train normalized MSE   0.1048 | val normalized MSE   0.1069 | val MAE   1.6844 | val MSE  10.6858\n"
     ]
    },
    {
     "name": "stderr",
     "output_type": "stream",
     "text": [
      "Epoch [26/1000]: 100%|██████████| 71/71 [00:00<00:00, 71.21it/s]\n"
     ]
    },
    {
     "name": "stdout",
     "output_type": "stream",
     "text": [
      " train normalized MSE   0.1033 | val normalized MSE   0.1040 | val MAE   1.6868 | val MSE  10.3971\n"
     ]
    },
    {
     "name": "stderr",
     "output_type": "stream",
     "text": [
      "Epoch [27/1000]: 100%|██████████| 71/71 [00:00<00:00, 72.70it/s]\n"
     ]
    },
    {
     "name": "stdout",
     "output_type": "stream",
     "text": [
      " train normalized MSE   0.1055 | val normalized MSE   0.1031 | val MAE   1.6692 | val MSE  10.3112\n"
     ]
    },
    {
     "name": "stderr",
     "output_type": "stream",
     "text": [
      "Epoch [28/1000]: 100%|██████████| 71/71 [00:00<00:00, 71.44it/s]\n"
     ]
    },
    {
     "name": "stdout",
     "output_type": "stream",
     "text": [
      " train normalized MSE   0.1037 | val normalized MSE   0.1096 | val MAE   1.7582 | val MSE  10.9566\n"
     ]
    },
    {
     "name": "stderr",
     "output_type": "stream",
     "text": [
      "Epoch [29/1000]: 100%|██████████| 71/71 [00:00<00:00, 71.80it/s]\n"
     ]
    },
    {
     "name": "stdout",
     "output_type": "stream",
     "text": [
      " train normalized MSE   0.1026 | val normalized MSE   0.1094 | val MAE   1.7352 | val MSE  10.9395\n"
     ]
    },
    {
     "name": "stderr",
     "output_type": "stream",
     "text": [
      "Epoch [30/1000]: 100%|██████████| 71/71 [00:00<00:00, 71.27it/s]\n"
     ]
    },
    {
     "name": "stdout",
     "output_type": "stream",
     "text": [
      " train normalized MSE   0.1013 | val normalized MSE   0.1143 | val MAE   1.8138 | val MSE  11.4334\n"
     ]
    },
    {
     "name": "stderr",
     "output_type": "stream",
     "text": [
      "Epoch [31/1000]: 100%|██████████| 71/71 [00:01<00:00, 70.62it/s]\n"
     ]
    },
    {
     "name": "stdout",
     "output_type": "stream",
     "text": [
      " train normalized MSE   0.1004 | val normalized MSE   0.1039 | val MAE   1.6818 | val MSE  10.3950\n"
     ]
    },
    {
     "name": "stderr",
     "output_type": "stream",
     "text": [
      "Epoch [32/1000]: 100%|██████████| 71/71 [00:01<00:00, 67.30it/s]\n"
     ]
    },
    {
     "name": "stdout",
     "output_type": "stream",
     "text": [
      " train normalized MSE   0.0991 | val normalized MSE   0.1046 | val MAE   1.6633 | val MSE  10.4591\n"
     ]
    },
    {
     "name": "stderr",
     "output_type": "stream",
     "text": [
      "Epoch [33/1000]: 100%|██████████| 71/71 [00:01<00:00, 67.53it/s]\n"
     ]
    },
    {
     "name": "stdout",
     "output_type": "stream",
     "text": [
      " train normalized MSE   0.0995 | val normalized MSE   0.1033 | val MAE   1.6553 | val MSE  10.3259\n"
     ]
    },
    {
     "name": "stderr",
     "output_type": "stream",
     "text": [
      "Epoch [34/1000]: 100%|██████████| 71/71 [00:00<00:00, 71.56it/s]\n"
     ]
    },
    {
     "name": "stdout",
     "output_type": "stream",
     "text": [
      " train normalized MSE   0.0987 | val normalized MSE   0.1052 | val MAE   1.6860 | val MSE  10.5223\n"
     ]
    },
    {
     "name": "stderr",
     "output_type": "stream",
     "text": [
      "Epoch [35/1000]: 100%|██████████| 71/71 [00:01<00:00, 69.94it/s]\n"
     ]
    },
    {
     "name": "stdout",
     "output_type": "stream",
     "text": [
      " train normalized MSE   0.0960 | val normalized MSE   0.1022 | val MAE   1.6487 | val MSE  10.2207\n"
     ]
    },
    {
     "name": "stderr",
     "output_type": "stream",
     "text": [
      "Epoch [36/1000]: 100%|██████████| 71/71 [00:01<00:00, 70.78it/s]\n"
     ]
    },
    {
     "name": "stdout",
     "output_type": "stream",
     "text": [
      " train normalized MSE   0.0958 | val normalized MSE   0.1027 | val MAE   1.6058 | val MSE  10.2691\n"
     ]
    },
    {
     "name": "stderr",
     "output_type": "stream",
     "text": [
      "Epoch [37/1000]: 100%|██████████| 71/71 [00:00<00:00, 71.10it/s]\n"
     ]
    },
    {
     "name": "stdout",
     "output_type": "stream",
     "text": [
      " train normalized MSE   0.0955 | val normalized MSE   0.0985 | val MAE   1.6032 | val MSE   9.8477\n"
     ]
    },
    {
     "name": "stderr",
     "output_type": "stream",
     "text": [
      "Epoch [38/1000]: 100%|██████████| 71/71 [00:01<00:00, 70.21it/s]\n"
     ]
    },
    {
     "name": "stdout",
     "output_type": "stream",
     "text": [
      " train normalized MSE   0.0952 | val normalized MSE   0.1032 | val MAE   1.6804 | val MSE  10.3183\n"
     ]
    },
    {
     "name": "stderr",
     "output_type": "stream",
     "text": [
      "Epoch [39/1000]: 100%|██████████| 71/71 [00:01<00:00, 70.89it/s]\n"
     ]
    },
    {
     "name": "stdout",
     "output_type": "stream",
     "text": [
      " train normalized MSE   0.0948 | val normalized MSE   0.1053 | val MAE   1.7337 | val MSE  10.5333\n"
     ]
    },
    {
     "name": "stderr",
     "output_type": "stream",
     "text": [
      "Epoch [40/1000]: 100%|██████████| 71/71 [00:01<00:00, 70.95it/s]\n"
     ]
    },
    {
     "name": "stdout",
     "output_type": "stream",
     "text": [
      " train normalized MSE   0.0917 | val normalized MSE   0.1005 | val MAE   1.6069 | val MSE  10.0530\n"
     ]
    },
    {
     "name": "stderr",
     "output_type": "stream",
     "text": [
      "Epoch [41/1000]: 100%|██████████| 71/71 [00:00<00:00, 72.05it/s]\n"
     ]
    },
    {
     "name": "stdout",
     "output_type": "stream",
     "text": [
      " train normalized MSE   0.0929 | val normalized MSE   0.1026 | val MAE   1.7205 | val MSE  10.2583\n"
     ]
    },
    {
     "name": "stderr",
     "output_type": "stream",
     "text": [
      "Epoch [42/1000]: 100%|██████████| 71/71 [00:00<00:00, 72.23it/s]\n"
     ]
    },
    {
     "name": "stdout",
     "output_type": "stream",
     "text": [
      " train normalized MSE   0.0935 | val normalized MSE   0.1046 | val MAE   1.7041 | val MSE  10.4600\n"
     ]
    },
    {
     "name": "stderr",
     "output_type": "stream",
     "text": [
      "Epoch [43/1000]: 100%|██████████| 71/71 [00:00<00:00, 71.92it/s]\n"
     ]
    },
    {
     "name": "stdout",
     "output_type": "stream",
     "text": [
      " train normalized MSE   0.0931 | val normalized MSE   0.1015 | val MAE   1.6767 | val MSE  10.1497\n"
     ]
    },
    {
     "name": "stderr",
     "output_type": "stream",
     "text": [
      "Epoch [44/1000]: 100%|██████████| 71/71 [00:00<00:00, 71.05it/s]\n"
     ]
    },
    {
     "name": "stdout",
     "output_type": "stream",
     "text": [
      " train normalized MSE   0.0921 | val normalized MSE   0.0989 | val MAE   1.5914 | val MSE   9.8851\n"
     ]
    },
    {
     "name": "stderr",
     "output_type": "stream",
     "text": [
      "Epoch [45/1000]: 100%|██████████| 71/71 [00:01<00:00, 70.57it/s]\n"
     ]
    },
    {
     "name": "stdout",
     "output_type": "stream",
     "text": [
      " train normalized MSE   0.0919 | val normalized MSE   0.1078 | val MAE   1.7571 | val MSE  10.7831\n"
     ]
    },
    {
     "name": "stderr",
     "output_type": "stream",
     "text": [
      "Epoch [46/1000]: 100%|██████████| 71/71 [00:00<00:00, 71.83it/s]\n"
     ]
    },
    {
     "name": "stdout",
     "output_type": "stream",
     "text": [
      " train normalized MSE   0.0904 | val normalized MSE   0.1050 | val MAE   1.6783 | val MSE  10.5040\n"
     ]
    },
    {
     "name": "stderr",
     "output_type": "stream",
     "text": [
      "Epoch [47/1000]: 100%|██████████| 71/71 [00:00<00:00, 72.19it/s]\n"
     ]
    },
    {
     "name": "stdout",
     "output_type": "stream",
     "text": [
      " train normalized MSE   0.0893 | val normalized MSE   0.1007 | val MAE   1.6177 | val MSE  10.0660\n"
     ]
    },
    {
     "name": "stderr",
     "output_type": "stream",
     "text": [
      "Epoch [48/1000]: 100%|██████████| 71/71 [00:00<00:00, 71.41it/s]\n"
     ]
    },
    {
     "name": "stdout",
     "output_type": "stream",
     "text": [
      " train normalized MSE   0.0885 | val normalized MSE   0.0957 | val MAE   1.5800 | val MSE   9.5686\n"
     ]
    },
    {
     "name": "stderr",
     "output_type": "stream",
     "text": [
      "Epoch [49/1000]: 100%|██████████| 71/71 [00:01<00:00, 65.55it/s]\n"
     ]
    },
    {
     "name": "stdout",
     "output_type": "stream",
     "text": [
      " train normalized MSE   0.0903 | val normalized MSE   0.1026 | val MAE   1.7148 | val MSE  10.2589\n"
     ]
    },
    {
     "name": "stderr",
     "output_type": "stream",
     "text": [
      "Epoch [50/1000]: 100%|██████████| 71/71 [00:01<00:00, 59.06it/s]\n"
     ]
    },
    {
     "name": "stdout",
     "output_type": "stream",
     "text": [
      " train normalized MSE   0.0892 | val normalized MSE   0.0968 | val MAE   1.6189 | val MSE   9.6759\n"
     ]
    },
    {
     "name": "stderr",
     "output_type": "stream",
     "text": [
      "Epoch [51/1000]: 100%|██████████| 71/71 [00:01<00:00, 70.65it/s]\n"
     ]
    },
    {
     "name": "stdout",
     "output_type": "stream",
     "text": [
      " train normalized MSE   0.0890 | val normalized MSE   0.0982 | val MAE   1.6424 | val MSE   9.8165\n"
     ]
    },
    {
     "name": "stderr",
     "output_type": "stream",
     "text": [
      "Epoch [52/1000]: 100%|██████████| 71/71 [00:01<00:00, 70.92it/s]\n"
     ]
    },
    {
     "name": "stdout",
     "output_type": "stream",
     "text": [
      " train normalized MSE   0.0873 | val normalized MSE   0.0971 | val MAE   1.5821 | val MSE   9.7117\n"
     ]
    },
    {
     "name": "stderr",
     "output_type": "stream",
     "text": [
      "Epoch [53/1000]: 100%|██████████| 71/71 [00:01<00:00, 70.65it/s]\n"
     ]
    },
    {
     "name": "stdout",
     "output_type": "stream",
     "text": [
      " train normalized MSE   0.0863 | val normalized MSE   0.0994 | val MAE   1.6089 | val MSE   9.9408\n"
     ]
    },
    {
     "name": "stderr",
     "output_type": "stream",
     "text": [
      "Epoch [54/1000]: 100%|██████████| 71/71 [00:00<00:00, 71.62it/s]\n"
     ]
    },
    {
     "name": "stdout",
     "output_type": "stream",
     "text": [
      " train normalized MSE   0.0868 | val normalized MSE   0.1014 | val MAE   1.6486 | val MSE  10.1439\n"
     ]
    },
    {
     "name": "stderr",
     "output_type": "stream",
     "text": [
      "Epoch [55/1000]: 100%|██████████| 71/71 [00:01<00:00, 70.57it/s]\n"
     ]
    },
    {
     "name": "stdout",
     "output_type": "stream",
     "text": [
      " train normalized MSE   0.0863 | val normalized MSE   0.1009 | val MAE   1.6424 | val MSE  10.0901\n"
     ]
    },
    {
     "name": "stderr",
     "output_type": "stream",
     "text": [
      "Epoch [56/1000]: 100%|██████████| 71/71 [00:00<00:00, 71.28it/s]\n"
     ]
    },
    {
     "name": "stdout",
     "output_type": "stream",
     "text": [
      " train normalized MSE   0.0852 | val normalized MSE   0.1008 | val MAE   1.6668 | val MSE  10.0804\n"
     ]
    },
    {
     "name": "stderr",
     "output_type": "stream",
     "text": [
      "Epoch [57/1000]: 100%|██████████| 71/71 [00:00<00:00, 71.79it/s]\n"
     ]
    },
    {
     "name": "stdout",
     "output_type": "stream",
     "text": [
      " train normalized MSE   0.0852 | val normalized MSE   0.1000 | val MAE   1.6744 | val MSE  10.0035\n"
     ]
    },
    {
     "name": "stderr",
     "output_type": "stream",
     "text": [
      "Epoch [58/1000]: 100%|██████████| 71/71 [00:00<00:00, 71.55it/s]\n"
     ]
    },
    {
     "name": "stdout",
     "output_type": "stream",
     "text": [
      " train normalized MSE   0.0862 | val normalized MSE   0.1050 | val MAE   1.7254 | val MSE  10.4973\n"
     ]
    },
    {
     "name": "stderr",
     "output_type": "stream",
     "text": [
      "Epoch [59/1000]: 100%|██████████| 71/71 [00:00<00:00, 71.11it/s]\n"
     ]
    },
    {
     "name": "stdout",
     "output_type": "stream",
     "text": [
      " train normalized MSE   0.0852 | val normalized MSE   0.0960 | val MAE   1.5912 | val MSE   9.6000\n"
     ]
    },
    {
     "name": "stderr",
     "output_type": "stream",
     "text": [
      "Epoch [60/1000]: 100%|██████████| 71/71 [00:01<00:00, 70.04it/s]\n"
     ]
    },
    {
     "name": "stdout",
     "output_type": "stream",
     "text": [
      " train normalized MSE   0.0854 | val normalized MSE   0.0980 | val MAE   1.6128 | val MSE   9.8012\n"
     ]
    },
    {
     "name": "stderr",
     "output_type": "stream",
     "text": [
      "Epoch [61/1000]: 100%|██████████| 71/71 [00:00<00:00, 72.04it/s]\n"
     ]
    },
    {
     "name": "stdout",
     "output_type": "stream",
     "text": [
      " train normalized MSE   0.0834 | val normalized MSE   0.0941 | val MAE   1.5764 | val MSE   9.4110\n"
     ]
    },
    {
     "name": "stderr",
     "output_type": "stream",
     "text": [
      "Epoch [62/1000]: 100%|██████████| 71/71 [00:00<00:00, 71.50it/s]\n"
     ]
    },
    {
     "name": "stdout",
     "output_type": "stream",
     "text": [
      " train normalized MSE   0.0816 | val normalized MSE   0.0980 | val MAE   1.5844 | val MSE   9.7951\n"
     ]
    },
    {
     "name": "stderr",
     "output_type": "stream",
     "text": [
      "Epoch [63/1000]: 100%|██████████| 71/71 [00:00<00:00, 72.10it/s]\n"
     ]
    },
    {
     "name": "stdout",
     "output_type": "stream",
     "text": [
      " train normalized MSE   0.0818 | val normalized MSE   0.1048 | val MAE   1.6749 | val MSE  10.4812\n"
     ]
    },
    {
     "name": "stderr",
     "output_type": "stream",
     "text": [
      "Epoch [64/1000]: 100%|██████████| 71/71 [00:00<00:00, 71.49it/s]\n"
     ]
    },
    {
     "name": "stdout",
     "output_type": "stream",
     "text": [
      " train normalized MSE   0.0832 | val normalized MSE   0.1008 | val MAE   1.6144 | val MSE  10.0818\n"
     ]
    },
    {
     "name": "stderr",
     "output_type": "stream",
     "text": [
      "Epoch [65/1000]: 100%|██████████| 71/71 [00:00<00:00, 71.18it/s]\n"
     ]
    },
    {
     "name": "stdout",
     "output_type": "stream",
     "text": [
      " train normalized MSE   0.0830 | val normalized MSE   0.0991 | val MAE   1.6180 | val MSE   9.9097\n"
     ]
    },
    {
     "name": "stderr",
     "output_type": "stream",
     "text": [
      "Epoch [66/1000]: 100%|██████████| 71/71 [00:01<00:00, 68.89it/s]\n"
     ]
    },
    {
     "name": "stdout",
     "output_type": "stream",
     "text": [
      " train normalized MSE   0.0834 | val normalized MSE   0.1062 | val MAE   1.7309 | val MSE  10.6225\n"
     ]
    },
    {
     "name": "stderr",
     "output_type": "stream",
     "text": [
      "Epoch [67/1000]: 100%|██████████| 71/71 [00:01<00:00, 69.28it/s]\n"
     ]
    },
    {
     "name": "stdout",
     "output_type": "stream",
     "text": [
      " train normalized MSE   0.0827 | val normalized MSE   0.1006 | val MAE   1.6415 | val MSE  10.0578\n"
     ]
    },
    {
     "name": "stderr",
     "output_type": "stream",
     "text": [
      "Epoch [68/1000]: 100%|██████████| 71/71 [00:01<00:00, 70.98it/s]\n"
     ]
    },
    {
     "name": "stdout",
     "output_type": "stream",
     "text": [
      " train normalized MSE   0.0825 | val normalized MSE   0.1063 | val MAE   1.7319 | val MSE  10.6262\n"
     ]
    },
    {
     "name": "stderr",
     "output_type": "stream",
     "text": [
      "Epoch [69/1000]: 100%|██████████| 71/71 [00:01<00:00, 70.02it/s]\n"
     ]
    },
    {
     "name": "stdout",
     "output_type": "stream",
     "text": [
      " train normalized MSE   0.0800 | val normalized MSE   0.1003 | val MAE   1.6112 | val MSE  10.0334\n"
     ]
    },
    {
     "name": "stderr",
     "output_type": "stream",
     "text": [
      "Epoch [70/1000]: 100%|██████████| 71/71 [00:01<00:00, 70.46it/s]\n"
     ]
    },
    {
     "name": "stdout",
     "output_type": "stream",
     "text": [
      " train normalized MSE   0.0812 | val normalized MSE   0.0995 | val MAE   1.6147 | val MSE   9.9468\n"
     ]
    },
    {
     "name": "stderr",
     "output_type": "stream",
     "text": [
      "Epoch [71/1000]: 100%|██████████| 71/71 [00:00<00:00, 71.47it/s]\n"
     ]
    },
    {
     "name": "stdout",
     "output_type": "stream",
     "text": [
      " train normalized MSE   0.0809 | val normalized MSE   0.0996 | val MAE   1.6134 | val MSE   9.9629\n"
     ]
    },
    {
     "name": "stderr",
     "output_type": "stream",
     "text": [
      "Epoch [72/1000]: 100%|██████████| 71/71 [00:00<00:00, 71.79it/s]\n"
     ]
    },
    {
     "name": "stdout",
     "output_type": "stream",
     "text": [
      " train normalized MSE   0.0792 | val normalized MSE   0.0970 | val MAE   1.5662 | val MSE   9.7018\n"
     ]
    },
    {
     "name": "stderr",
     "output_type": "stream",
     "text": [
      "Epoch [73/1000]: 100%|██████████| 71/71 [00:00<00:00, 72.29it/s]\n"
     ]
    },
    {
     "name": "stdout",
     "output_type": "stream",
     "text": [
      " train normalized MSE   0.0805 | val normalized MSE   0.0989 | val MAE   1.6093 | val MSE   9.8922\n"
     ]
    },
    {
     "name": "stderr",
     "output_type": "stream",
     "text": [
      "Epoch [74/1000]: 100%|██████████| 71/71 [00:01<00:00, 70.92it/s]\n"
     ]
    },
    {
     "name": "stdout",
     "output_type": "stream",
     "text": [
      " train normalized MSE   0.0794 | val normalized MSE   0.1058 | val MAE   1.6295 | val MSE  10.5780\n"
     ]
    },
    {
     "name": "stderr",
     "output_type": "stream",
     "text": [
      "Epoch [75/1000]: 100%|██████████| 71/71 [00:00<00:00, 71.79it/s]\n"
     ]
    },
    {
     "name": "stdout",
     "output_type": "stream",
     "text": [
      " train normalized MSE   0.0794 | val normalized MSE   0.0971 | val MAE   1.6070 | val MSE   9.7114\n"
     ]
    },
    {
     "name": "stderr",
     "output_type": "stream",
     "text": [
      "Epoch [76/1000]: 100%|██████████| 71/71 [00:00<00:00, 72.16it/s]\n"
     ]
    },
    {
     "name": "stdout",
     "output_type": "stream",
     "text": [
      " train normalized MSE   0.0784 | val normalized MSE   0.1001 | val MAE   1.5949 | val MSE  10.0087\n"
     ]
    },
    {
     "name": "stderr",
     "output_type": "stream",
     "text": [
      "Epoch [77/1000]: 100%|██████████| 71/71 [00:00<00:00, 71.88it/s]\n"
     ]
    },
    {
     "name": "stdout",
     "output_type": "stream",
     "text": [
      " train normalized MSE   0.0796 | val normalized MSE   0.0972 | val MAE   1.6002 | val MSE   9.7202\n"
     ]
    },
    {
     "name": "stderr",
     "output_type": "stream",
     "text": [
      "Epoch [78/1000]: 100%|██████████| 71/71 [00:00<00:00, 72.42it/s]\n"
     ]
    },
    {
     "name": "stdout",
     "output_type": "stream",
     "text": [
      " train normalized MSE   0.0778 | val normalized MSE   0.1059 | val MAE   1.6720 | val MSE  10.5898\n"
     ]
    },
    {
     "name": "stderr",
     "output_type": "stream",
     "text": [
      "Epoch [79/1000]: 100%|██████████| 71/71 [00:00<00:00, 71.19it/s]\n"
     ]
    },
    {
     "name": "stdout",
     "output_type": "stream",
     "text": [
      " train normalized MSE   0.0790 | val normalized MSE   0.0982 | val MAE   1.6062 | val MSE   9.8155\n"
     ]
    },
    {
     "name": "stderr",
     "output_type": "stream",
     "text": [
      "Epoch [80/1000]: 100%|██████████| 71/71 [00:00<00:00, 71.88it/s]\n"
     ]
    },
    {
     "name": "stdout",
     "output_type": "stream",
     "text": [
      " train normalized MSE   0.0771 | val normalized MSE   0.0968 | val MAE   1.5952 | val MSE   9.6790\n"
     ]
    },
    {
     "name": "stderr",
     "output_type": "stream",
     "text": [
      "Epoch [81/1000]: 100%|██████████| 71/71 [00:01<00:00, 70.87it/s]\n"
     ]
    },
    {
     "name": "stdout",
     "output_type": "stream",
     "text": [
      " train normalized MSE   0.0771 | val normalized MSE   0.0998 | val MAE   1.6350 | val MSE   9.9847\n"
     ]
    },
    {
     "name": "stderr",
     "output_type": "stream",
     "text": [
      "Epoch [82/1000]: 100%|██████████| 71/71 [00:01<00:00, 70.25it/s]\n"
     ]
    },
    {
     "name": "stdout",
     "output_type": "stream",
     "text": [
      " train normalized MSE   0.0781 | val normalized MSE   0.1013 | val MAE   1.6284 | val MSE  10.1263\n"
     ]
    },
    {
     "name": "stderr",
     "output_type": "stream",
     "text": [
      "Epoch [83/1000]: 100%|██████████| 71/71 [00:01<00:00, 67.22it/s]\n"
     ]
    },
    {
     "name": "stdout",
     "output_type": "stream",
     "text": [
      " train normalized MSE   0.0762 | val normalized MSE   0.1014 | val MAE   1.6529 | val MSE  10.1445\n"
     ]
    },
    {
     "name": "stderr",
     "output_type": "stream",
     "text": [
      "Epoch [84/1000]: 100%|██████████| 71/71 [00:00<00:00, 71.19it/s]\n"
     ]
    },
    {
     "name": "stdout",
     "output_type": "stream",
     "text": [
      " train normalized MSE   0.0773 | val normalized MSE   0.1020 | val MAE   1.6184 | val MSE  10.1977\n"
     ]
    },
    {
     "name": "stderr",
     "output_type": "stream",
     "text": [
      "Epoch [85/1000]: 100%|██████████| 71/71 [00:01<00:00, 70.85it/s]\n"
     ]
    },
    {
     "name": "stdout",
     "output_type": "stream",
     "text": [
      " train normalized MSE   0.0763 | val normalized MSE   0.1013 | val MAE   1.6906 | val MSE  10.1273\n"
     ]
    },
    {
     "name": "stderr",
     "output_type": "stream",
     "text": [
      "Epoch [86/1000]: 100%|██████████| 71/71 [00:01<00:00, 69.78it/s]\n"
     ]
    },
    {
     "name": "stdout",
     "output_type": "stream",
     "text": [
      " train normalized MSE   0.0764 | val normalized MSE   0.0998 | val MAE   1.6261 | val MSE   9.9831\n"
     ]
    },
    {
     "name": "stderr",
     "output_type": "stream",
     "text": [
      "Epoch [87/1000]: 100%|██████████| 71/71 [00:01<00:00, 70.89it/s]\n"
     ]
    },
    {
     "name": "stdout",
     "output_type": "stream",
     "text": [
      " train normalized MSE   0.0765 | val normalized MSE   0.1033 | val MAE   1.6284 | val MSE  10.3308\n"
     ]
    },
    {
     "name": "stderr",
     "output_type": "stream",
     "text": [
      "Epoch [88/1000]: 100%|██████████| 71/71 [00:01<00:00, 70.71it/s]\n"
     ]
    },
    {
     "name": "stdout",
     "output_type": "stream",
     "text": [
      " train normalized MSE   0.0769 | val normalized MSE   0.0992 | val MAE   1.6088 | val MSE   9.9242\n"
     ]
    },
    {
     "name": "stderr",
     "output_type": "stream",
     "text": [
      "Epoch [89/1000]: 100%|██████████| 71/71 [00:00<00:00, 72.02it/s]\n"
     ]
    },
    {
     "name": "stdout",
     "output_type": "stream",
     "text": [
      " train normalized MSE   0.0756 | val normalized MSE   0.0997 | val MAE   1.5766 | val MSE   9.9727\n"
     ]
    },
    {
     "name": "stderr",
     "output_type": "stream",
     "text": [
      "Epoch [90/1000]: 100%|██████████| 71/71 [00:00<00:00, 71.41it/s]\n"
     ]
    },
    {
     "name": "stdout",
     "output_type": "stream",
     "text": [
      " train normalized MSE   0.0739 | val normalized MSE   0.0978 | val MAE   1.6103 | val MSE   9.7848\n"
     ]
    },
    {
     "name": "stderr",
     "output_type": "stream",
     "text": [
      "Epoch [91/1000]: 100%|██████████| 71/71 [00:00<00:00, 71.61it/s]\n"
     ]
    },
    {
     "name": "stdout",
     "output_type": "stream",
     "text": [
      " train normalized MSE   0.0758 | val normalized MSE   0.1013 | val MAE   1.6224 | val MSE  10.1293\n"
     ]
    },
    {
     "name": "stderr",
     "output_type": "stream",
     "text": [
      "Epoch [92/1000]: 100%|██████████| 71/71 [00:00<00:00, 71.80it/s]\n"
     ]
    },
    {
     "name": "stdout",
     "output_type": "stream",
     "text": [
      " train normalized MSE   0.0754 | val normalized MSE   0.0997 | val MAE   1.6311 | val MSE   9.9706\n"
     ]
    },
    {
     "name": "stderr",
     "output_type": "stream",
     "text": [
      "Epoch [93/1000]: 100%|██████████| 71/71 [00:01<00:00, 70.69it/s]\n"
     ]
    },
    {
     "name": "stdout",
     "output_type": "stream",
     "text": [
      " train normalized MSE   0.0766 | val normalized MSE   0.0990 | val MAE   1.5834 | val MSE   9.8981\n"
     ]
    },
    {
     "name": "stderr",
     "output_type": "stream",
     "text": [
      "Epoch [94/1000]: 100%|██████████| 71/71 [00:00<00:00, 71.77it/s]\n"
     ]
    },
    {
     "name": "stdout",
     "output_type": "stream",
     "text": [
      " train normalized MSE   0.0748 | val normalized MSE   0.1037 | val MAE   1.6658 | val MSE  10.3701\n"
     ]
    },
    {
     "name": "stderr",
     "output_type": "stream",
     "text": [
      "Epoch [95/1000]: 100%|██████████| 71/71 [00:00<00:00, 71.36it/s]\n"
     ]
    },
    {
     "name": "stdout",
     "output_type": "stream",
     "text": [
      " train normalized MSE   0.0758 | val normalized MSE   0.1038 | val MAE   1.6378 | val MSE  10.3849\n"
     ]
    },
    {
     "name": "stderr",
     "output_type": "stream",
     "text": [
      "Epoch [96/1000]: 100%|██████████| 71/71 [00:00<00:00, 71.60it/s]\n"
     ]
    },
    {
     "name": "stdout",
     "output_type": "stream",
     "text": [
      " train normalized MSE   0.0733 | val normalized MSE   0.1004 | val MAE   1.6498 | val MSE  10.0393\n"
     ]
    },
    {
     "name": "stderr",
     "output_type": "stream",
     "text": [
      "Epoch [97/1000]: 100%|██████████| 71/71 [00:00<00:00, 71.30it/s]\n"
     ]
    },
    {
     "name": "stdout",
     "output_type": "stream",
     "text": [
      " train normalized MSE   0.0744 | val normalized MSE   0.1001 | val MAE   1.5717 | val MSE  10.0053\n"
     ]
    },
    {
     "name": "stderr",
     "output_type": "stream",
     "text": [
      "Epoch [98/1000]: 100%|██████████| 71/71 [00:01<00:00, 70.57it/s]\n"
     ]
    },
    {
     "name": "stdout",
     "output_type": "stream",
     "text": [
      " train normalized MSE   0.0725 | val normalized MSE   0.1033 | val MAE   1.7094 | val MSE  10.3299\n"
     ]
    },
    {
     "name": "stderr",
     "output_type": "stream",
     "text": [
      "Epoch [99/1000]: 100%|██████████| 71/71 [00:01<00:00, 70.88it/s]\n"
     ]
    },
    {
     "name": "stdout",
     "output_type": "stream",
     "text": [
      " train normalized MSE   0.0758 | val normalized MSE   0.0996 | val MAE   1.6336 | val MSE   9.9586\n"
     ]
    },
    {
     "name": "stderr",
     "output_type": "stream",
     "text": [
      "Epoch [100/1000]: 100%|██████████| 71/71 [00:01<00:00, 69.66it/s]\n"
     ]
    },
    {
     "name": "stdout",
     "output_type": "stream",
     "text": [
      " train normalized MSE   0.0734 | val normalized MSE   0.0992 | val MAE   1.5731 | val MSE   9.9223\n"
     ]
    },
    {
     "name": "stderr",
     "output_type": "stream",
     "text": [
      "Epoch [101/1000]: 100%|██████████| 71/71 [00:01<00:00, 70.21it/s]\n"
     ]
    },
    {
     "name": "stdout",
     "output_type": "stream",
     "text": [
      " train normalized MSE   0.0722 | val normalized MSE   0.1053 | val MAE   1.7480 | val MSE  10.5323\n"
     ]
    },
    {
     "name": "stderr",
     "output_type": "stream",
     "text": [
      "Epoch [102/1000]: 100%|██████████| 71/71 [00:01<00:00, 70.64it/s]\n"
     ]
    },
    {
     "name": "stdout",
     "output_type": "stream",
     "text": [
      " train normalized MSE   0.0743 | val normalized MSE   0.1013 | val MAE   1.6741 | val MSE  10.1261\n"
     ]
    },
    {
     "name": "stderr",
     "output_type": "stream",
     "text": [
      "Epoch [103/1000]: 100%|██████████| 71/71 [00:01<00:00, 70.00it/s]\n"
     ]
    },
    {
     "name": "stdout",
     "output_type": "stream",
     "text": [
      " train normalized MSE   0.0714 | val normalized MSE   0.1018 | val MAE   1.6404 | val MSE  10.1850\n"
     ]
    },
    {
     "name": "stderr",
     "output_type": "stream",
     "text": [
      "Epoch [104/1000]: 100%|██████████| 71/71 [00:01<00:00, 70.87it/s]\n"
     ]
    },
    {
     "name": "stdout",
     "output_type": "stream",
     "text": [
      " train normalized MSE   0.0725 | val normalized MSE   0.0997 | val MAE   1.6064 | val MSE   9.9662\n"
     ]
    },
    {
     "name": "stderr",
     "output_type": "stream",
     "text": [
      "Epoch [105/1000]: 100%|██████████| 71/71 [00:01<00:00, 70.73it/s]\n"
     ]
    },
    {
     "name": "stdout",
     "output_type": "stream",
     "text": [
      " train normalized MSE   0.0729 | val normalized MSE   0.1014 | val MAE   1.6217 | val MSE  10.1376\n"
     ]
    },
    {
     "name": "stderr",
     "output_type": "stream",
     "text": [
      "Epoch [106/1000]: 100%|██████████| 71/71 [00:00<00:00, 71.57it/s]\n"
     ]
    },
    {
     "name": "stdout",
     "output_type": "stream",
     "text": [
      " train normalized MSE   0.0722 | val normalized MSE   0.0993 | val MAE   1.6262 | val MSE   9.9294\n"
     ]
    },
    {
     "name": "stderr",
     "output_type": "stream",
     "text": [
      "Epoch [107/1000]: 100%|██████████| 71/71 [00:01<00:00, 70.85it/s]\n"
     ]
    },
    {
     "name": "stdout",
     "output_type": "stream",
     "text": [
      " train normalized MSE   0.0733 | val normalized MSE   0.1043 | val MAE   1.6726 | val MSE  10.4270\n"
     ]
    },
    {
     "name": "stderr",
     "output_type": "stream",
     "text": [
      "Epoch [108/1000]: 100%|██████████| 71/71 [00:00<00:00, 71.00it/s]\n"
     ]
    },
    {
     "name": "stdout",
     "output_type": "stream",
     "text": [
      " train normalized MSE   0.0704 | val normalized MSE   0.1016 | val MAE   1.6038 | val MSE  10.1555\n"
     ]
    },
    {
     "name": "stderr",
     "output_type": "stream",
     "text": [
      "Epoch [109/1000]: 100%|██████████| 71/71 [00:00<00:00, 72.09it/s]\n"
     ]
    },
    {
     "name": "stdout",
     "output_type": "stream",
     "text": [
      " train normalized MSE   0.0703 | val normalized MSE   0.0988 | val MAE   1.5901 | val MSE   9.8763\n"
     ]
    },
    {
     "name": "stderr",
     "output_type": "stream",
     "text": [
      "Epoch [110/1000]: 100%|██████████| 71/71 [00:00<00:00, 71.97it/s]\n"
     ]
    },
    {
     "name": "stdout",
     "output_type": "stream",
     "text": [
      " train normalized MSE   0.0714 | val normalized MSE   0.0983 | val MAE   1.6045 | val MSE   9.8279\n"
     ]
    },
    {
     "name": "stderr",
     "output_type": "stream",
     "text": [
      "Epoch [111/1000]: 100%|██████████| 71/71 [00:00<00:00, 71.59it/s]\n"
     ]
    },
    {
     "name": "stdout",
     "output_type": "stream",
     "text": [
      " train normalized MSE   0.0720 | val normalized MSE   0.1012 | val MAE   1.6497 | val MSE  10.1241\n"
     ]
    },
    {
     "name": "stderr",
     "output_type": "stream",
     "text": [
      "Epoch [112/1000]: 100%|██████████| 71/71 [00:01<00:00, 70.53it/s]\n"
     ]
    },
    {
     "name": "stdout",
     "output_type": "stream",
     "text": [
      " train normalized MSE   0.0696 | val normalized MSE   0.1006 | val MAE   1.6142 | val MSE  10.0637\n"
     ]
    },
    {
     "name": "stderr",
     "output_type": "stream",
     "text": [
      "Epoch [113/1000]: 100%|██████████| 71/71 [00:01<00:00, 70.88it/s]\n"
     ]
    },
    {
     "name": "stdout",
     "output_type": "stream",
     "text": [
      " train normalized MSE   0.0695 | val normalized MSE   0.0988 | val MAE   1.5656 | val MSE   9.8838\n"
     ]
    },
    {
     "name": "stderr",
     "output_type": "stream",
     "text": [
      "Epoch [114/1000]: 100%|██████████| 71/71 [00:00<00:00, 71.43it/s]\n"
     ]
    },
    {
     "name": "stdout",
     "output_type": "stream",
     "text": [
      " train normalized MSE   0.0691 | val normalized MSE   0.1025 | val MAE   1.6570 | val MSE  10.2473\n"
     ]
    },
    {
     "name": "stderr",
     "output_type": "stream",
     "text": [
      "Epoch [115/1000]: 100%|██████████| 71/71 [00:00<00:00, 71.62it/s]\n"
     ]
    },
    {
     "name": "stdout",
     "output_type": "stream",
     "text": [
      " train normalized MSE   0.0696 | val normalized MSE   0.0977 | val MAE   1.5494 | val MSE   9.7714\n"
     ]
    },
    {
     "name": "stderr",
     "output_type": "stream",
     "text": [
      "Epoch [116/1000]: 100%|██████████| 71/71 [00:00<00:00, 71.06it/s]\n"
     ]
    },
    {
     "name": "stdout",
     "output_type": "stream",
     "text": [
      " train normalized MSE   0.0695 | val normalized MSE   0.1017 | val MAE   1.6022 | val MSE  10.1706\n"
     ]
    },
    {
     "name": "stderr",
     "output_type": "stream",
     "text": [
      "Epoch [117/1000]: 100%|██████████| 71/71 [00:01<00:00, 69.20it/s]\n"
     ]
    },
    {
     "name": "stdout",
     "output_type": "stream",
     "text": [
      " train normalized MSE   0.0701 | val normalized MSE   0.1059 | val MAE   1.6749 | val MSE  10.5915\n"
     ]
    },
    {
     "name": "stderr",
     "output_type": "stream",
     "text": [
      "Epoch [118/1000]: 100%|██████████| 71/71 [00:01<00:00, 70.57it/s]\n"
     ]
    },
    {
     "name": "stdout",
     "output_type": "stream",
     "text": [
      " train normalized MSE   0.0694 | val normalized MSE   0.1003 | val MAE   1.6616 | val MSE  10.0270\n"
     ]
    },
    {
     "name": "stderr",
     "output_type": "stream",
     "text": [
      "Epoch [119/1000]: 100%|██████████| 71/71 [00:00<00:00, 71.80it/s]\n"
     ]
    },
    {
     "name": "stdout",
     "output_type": "stream",
     "text": [
      " train normalized MSE   0.0717 | val normalized MSE   0.1033 | val MAE   1.6719 | val MSE  10.3332\n"
     ]
    },
    {
     "name": "stderr",
     "output_type": "stream",
     "text": [
      "Epoch [120/1000]: 100%|██████████| 71/71 [00:00<00:00, 71.88it/s]\n"
     ]
    },
    {
     "name": "stdout",
     "output_type": "stream",
     "text": [
      " train normalized MSE   0.0705 | val normalized MSE   0.1007 | val MAE   1.6151 | val MSE  10.0701\n"
     ]
    },
    {
     "name": "stderr",
     "output_type": "stream",
     "text": [
      "Epoch [121/1000]: 100%|██████████| 71/71 [00:01<00:00, 70.91it/s]\n"
     ]
    },
    {
     "name": "stdout",
     "output_type": "stream",
     "text": [
      " train normalized MSE   0.0692 | val normalized MSE   0.1012 | val MAE   1.6347 | val MSE  10.1222\n"
     ]
    },
    {
     "name": "stderr",
     "output_type": "stream",
     "text": [
      "Epoch [122/1000]: 100%|██████████| 71/71 [00:01<00:00, 70.80it/s]\n"
     ]
    },
    {
     "name": "stdout",
     "output_type": "stream",
     "text": [
      " train normalized MSE   0.0686 | val normalized MSE   0.1008 | val MAE   1.6191 | val MSE  10.0825\n"
     ]
    },
    {
     "name": "stderr",
     "output_type": "stream",
     "text": [
      "Epoch [123/1000]: 100%|██████████| 71/71 [00:01<00:00, 70.29it/s]\n"
     ]
    },
    {
     "name": "stdout",
     "output_type": "stream",
     "text": [
      " train normalized MSE   0.0679 | val normalized MSE   0.0992 | val MAE   1.6023 | val MSE   9.9196\n"
     ]
    },
    {
     "name": "stderr",
     "output_type": "stream",
     "text": [
      "Epoch [124/1000]: 100%|██████████| 71/71 [00:00<00:00, 72.09it/s]\n"
     ]
    },
    {
     "name": "stdout",
     "output_type": "stream",
     "text": [
      " train normalized MSE   0.0668 | val normalized MSE   0.1011 | val MAE   1.6236 | val MSE  10.1070\n"
     ]
    },
    {
     "name": "stderr",
     "output_type": "stream",
     "text": [
      "Epoch [125/1000]: 100%|██████████| 71/71 [00:00<00:00, 72.29it/s]\n"
     ]
    },
    {
     "name": "stdout",
     "output_type": "stream",
     "text": [
      " train normalized MSE   0.0672 | val normalized MSE   0.1040 | val MAE   1.6076 | val MSE  10.3988\n"
     ]
    },
    {
     "name": "stderr",
     "output_type": "stream",
     "text": [
      "Epoch [126/1000]: 100%|██████████| 71/71 [00:00<00:00, 71.92it/s]\n"
     ]
    },
    {
     "name": "stdout",
     "output_type": "stream",
     "text": [
      " train normalized MSE   0.0668 | val normalized MSE   0.0996 | val MAE   1.6092 | val MSE   9.9624\n"
     ]
    },
    {
     "name": "stderr",
     "output_type": "stream",
     "text": [
      "Epoch [127/1000]: 100%|██████████| 71/71 [00:00<00:00, 71.86it/s]\n"
     ]
    },
    {
     "name": "stdout",
     "output_type": "stream",
     "text": [
      " train normalized MSE   0.0669 | val normalized MSE   0.0980 | val MAE   1.5630 | val MSE   9.7968\n"
     ]
    },
    {
     "name": "stderr",
     "output_type": "stream",
     "text": [
      "Epoch [128/1000]: 100%|██████████| 71/71 [00:01<00:00, 70.85it/s]\n"
     ]
    },
    {
     "name": "stdout",
     "output_type": "stream",
     "text": [
      " train normalized MSE   0.0678 | val normalized MSE   0.0983 | val MAE   1.5925 | val MSE   9.8302\n"
     ]
    },
    {
     "name": "stderr",
     "output_type": "stream",
     "text": [
      "Epoch [129/1000]: 100%|██████████| 71/71 [00:00<00:00, 71.73it/s]\n"
     ]
    },
    {
     "name": "stdout",
     "output_type": "stream",
     "text": [
      " train normalized MSE   0.0667 | val normalized MSE   0.0985 | val MAE   1.6170 | val MSE   9.8490\n"
     ]
    },
    {
     "name": "stderr",
     "output_type": "stream",
     "text": [
      "Epoch [130/1000]: 100%|██████████| 71/71 [00:00<00:00, 71.76it/s]\n"
     ]
    },
    {
     "name": "stdout",
     "output_type": "stream",
     "text": [
      " train normalized MSE   0.0663 | val normalized MSE   0.1048 | val MAE   1.6477 | val MSE  10.4753\n"
     ]
    },
    {
     "name": "stderr",
     "output_type": "stream",
     "text": [
      "Epoch [131/1000]: 100%|██████████| 71/71 [00:00<00:00, 72.04it/s]\n"
     ]
    },
    {
     "name": "stdout",
     "output_type": "stream",
     "text": [
      " train normalized MSE   0.0692 | val normalized MSE   0.0960 | val MAE   1.5501 | val MSE   9.6005\n"
     ]
    },
    {
     "name": "stderr",
     "output_type": "stream",
     "text": [
      "Epoch [132/1000]: 100%|██████████| 71/71 [00:00<00:00, 71.75it/s]\n"
     ]
    },
    {
     "name": "stdout",
     "output_type": "stream",
     "text": [
      " train normalized MSE   0.0680 | val normalized MSE   0.1010 | val MAE   1.6157 | val MSE  10.1036\n"
     ]
    },
    {
     "name": "stderr",
     "output_type": "stream",
     "text": [
      "Epoch [133/1000]: 100%|██████████| 71/71 [00:00<00:00, 71.19it/s]\n"
     ]
    },
    {
     "name": "stdout",
     "output_type": "stream",
     "text": [
      " train normalized MSE   0.0667 | val normalized MSE   0.1001 | val MAE   1.6184 | val MSE  10.0096\n"
     ]
    },
    {
     "name": "stderr",
     "output_type": "stream",
     "text": [
      "Epoch [134/1000]: 100%|██████████| 71/71 [00:01<00:00, 67.82it/s]\n"
     ]
    },
    {
     "name": "stdout",
     "output_type": "stream",
     "text": [
      " train normalized MSE   0.0667 | val normalized MSE   0.1011 | val MAE   1.5924 | val MSE  10.1115\n"
     ]
    },
    {
     "name": "stderr",
     "output_type": "stream",
     "text": [
      "Epoch [135/1000]: 100%|██████████| 71/71 [00:01<00:00, 69.99it/s]\n"
     ]
    },
    {
     "name": "stdout",
     "output_type": "stream",
     "text": [
      " train normalized MSE   0.0673 | val normalized MSE   0.1047 | val MAE   1.6208 | val MSE  10.4691\n"
     ]
    },
    {
     "name": "stderr",
     "output_type": "stream",
     "text": [
      "Epoch [136/1000]: 100%|██████████| 71/71 [00:00<00:00, 71.48it/s]\n"
     ]
    },
    {
     "name": "stdout",
     "output_type": "stream",
     "text": [
      " train normalized MSE   0.0667 | val normalized MSE   0.0973 | val MAE   1.5476 | val MSE   9.7341\n"
     ]
    },
    {
     "name": "stderr",
     "output_type": "stream",
     "text": [
      "Epoch [137/1000]: 100%|██████████| 71/71 [00:00<00:00, 71.58it/s]\n"
     ]
    },
    {
     "name": "stdout",
     "output_type": "stream",
     "text": [
      " train normalized MSE   0.0645 | val normalized MSE   0.0981 | val MAE   1.6258 | val MSE   9.8081\n"
     ]
    },
    {
     "name": "stderr",
     "output_type": "stream",
     "text": [
      "Epoch [138/1000]: 100%|██████████| 71/71 [00:00<00:00, 72.22it/s]\n"
     ]
    },
    {
     "name": "stdout",
     "output_type": "stream",
     "text": [
      " train normalized MSE   0.0648 | val normalized MSE   0.1039 | val MAE   1.5905 | val MSE  10.3882\n"
     ]
    },
    {
     "name": "stderr",
     "output_type": "stream",
     "text": [
      "Epoch [139/1000]: 100%|██████████| 71/71 [00:00<00:00, 71.98it/s]\n"
     ]
    },
    {
     "name": "stdout",
     "output_type": "stream",
     "text": [
      " train normalized MSE   0.0662 | val normalized MSE   0.1027 | val MAE   1.6160 | val MSE  10.2705\n"
     ]
    },
    {
     "name": "stderr",
     "output_type": "stream",
     "text": [
      "Epoch [140/1000]: 100%|██████████| 71/71 [00:00<00:00, 71.96it/s]\n"
     ]
    },
    {
     "name": "stdout",
     "output_type": "stream",
     "text": [
      " train normalized MSE   0.0656 | val normalized MSE   0.1024 | val MAE   1.5922 | val MSE  10.2357\n"
     ]
    },
    {
     "name": "stderr",
     "output_type": "stream",
     "text": [
      "Epoch [141/1000]: 100%|██████████| 71/71 [00:00<00:00, 72.67it/s]\n"
     ]
    },
    {
     "name": "stdout",
     "output_type": "stream",
     "text": [
      " train normalized MSE   0.0641 | val normalized MSE   0.1046 | val MAE   1.6425 | val MSE  10.4580\n"
     ]
    },
    {
     "name": "stderr",
     "output_type": "stream",
     "text": [
      "Epoch [142/1000]: 100%|██████████| 71/71 [00:00<00:00, 71.98it/s]\n"
     ]
    },
    {
     "name": "stdout",
     "output_type": "stream",
     "text": [
      " train normalized MSE   0.0639 | val normalized MSE   0.0980 | val MAE   1.5736 | val MSE   9.7981\n"
     ]
    },
    {
     "name": "stderr",
     "output_type": "stream",
     "text": [
      "Epoch [143/1000]: 100%|██████████| 71/71 [00:00<00:00, 71.82it/s]\n"
     ]
    },
    {
     "name": "stdout",
     "output_type": "stream",
     "text": [
      " train normalized MSE   0.0648 | val normalized MSE   0.0971 | val MAE   1.5546 | val MSE   9.7132\n"
     ]
    },
    {
     "name": "stderr",
     "output_type": "stream",
     "text": [
      "Epoch [144/1000]: 100%|██████████| 71/71 [00:00<00:00, 72.26it/s]\n"
     ]
    },
    {
     "name": "stdout",
     "output_type": "stream",
     "text": [
      " train normalized MSE   0.0642 | val normalized MSE   0.0971 | val MAE   1.5656 | val MSE   9.7057\n"
     ]
    },
    {
     "name": "stderr",
     "output_type": "stream",
     "text": [
      "Epoch [145/1000]: 100%|██████████| 71/71 [00:00<00:00, 71.98it/s]\n"
     ]
    },
    {
     "name": "stdout",
     "output_type": "stream",
     "text": [
      " train normalized MSE   0.0653 | val normalized MSE   0.1017 | val MAE   1.5777 | val MSE  10.1744\n"
     ]
    },
    {
     "name": "stderr",
     "output_type": "stream",
     "text": [
      "Epoch [146/1000]: 100%|██████████| 71/71 [00:00<00:00, 71.76it/s]\n"
     ]
    },
    {
     "name": "stdout",
     "output_type": "stream",
     "text": [
      " train normalized MSE   0.0632 | val normalized MSE   0.0977 | val MAE   1.5724 | val MSE   9.7748\n"
     ]
    },
    {
     "name": "stderr",
     "output_type": "stream",
     "text": [
      "Epoch [147/1000]: 100%|██████████| 71/71 [00:00<00:00, 72.04it/s]\n"
     ]
    },
    {
     "name": "stdout",
     "output_type": "stream",
     "text": [
      " train normalized MSE   0.0623 | val normalized MSE   0.1030 | val MAE   1.5892 | val MSE  10.2975\n"
     ]
    },
    {
     "name": "stderr",
     "output_type": "stream",
     "text": [
      "Epoch [148/1000]: 100%|██████████| 71/71 [00:00<00:00, 72.17it/s]\n"
     ]
    },
    {
     "name": "stdout",
     "output_type": "stream",
     "text": [
      " train normalized MSE   0.0618 | val normalized MSE   0.1050 | val MAE   1.6856 | val MSE  10.5049\n"
     ]
    },
    {
     "name": "stderr",
     "output_type": "stream",
     "text": [
      "Epoch [149/1000]: 100%|██████████| 71/71 [00:00<00:00, 72.24it/s]\n"
     ]
    },
    {
     "name": "stdout",
     "output_type": "stream",
     "text": [
      " train normalized MSE   0.0649 | val normalized MSE   0.1043 | val MAE   1.6803 | val MSE  10.4261\n"
     ]
    },
    {
     "name": "stderr",
     "output_type": "stream",
     "text": [
      "Epoch [150/1000]: 100%|██████████| 71/71 [00:00<00:00, 72.70it/s]\n"
     ]
    },
    {
     "name": "stdout",
     "output_type": "stream",
     "text": [
      " train normalized MSE   0.0621 | val normalized MSE   0.1006 | val MAE   1.6092 | val MSE  10.0561\n"
     ]
    },
    {
     "name": "stderr",
     "output_type": "stream",
     "text": [
      "Epoch [151/1000]: 100%|██████████| 71/71 [00:01<00:00, 68.42it/s]\n"
     ]
    },
    {
     "name": "stdout",
     "output_type": "stream",
     "text": [
      " train normalized MSE   0.0621 | val normalized MSE   0.1014 | val MAE   1.6155 | val MSE  10.1370\n"
     ]
    },
    {
     "name": "stderr",
     "output_type": "stream",
     "text": [
      "Epoch [152/1000]: 100%|██████████| 71/71 [00:01<00:00, 70.84it/s]\n"
     ]
    },
    {
     "name": "stdout",
     "output_type": "stream",
     "text": [
      " train normalized MSE   0.0633 | val normalized MSE   0.0995 | val MAE   1.6382 | val MSE   9.9459\n"
     ]
    },
    {
     "name": "stderr",
     "output_type": "stream",
     "text": [
      "Epoch [153/1000]: 100%|██████████| 71/71 [00:00<00:00, 71.57it/s]\n"
     ]
    },
    {
     "name": "stdout",
     "output_type": "stream",
     "text": [
      " train normalized MSE   0.0626 | val normalized MSE   0.1017 | val MAE   1.5747 | val MSE  10.1742\n"
     ]
    },
    {
     "name": "stderr",
     "output_type": "stream",
     "text": [
      "Epoch [154/1000]: 100%|██████████| 71/71 [00:00<00:00, 72.14it/s]\n"
     ]
    },
    {
     "name": "stdout",
     "output_type": "stream",
     "text": [
      " train normalized MSE   0.0596 | val normalized MSE   0.1038 | val MAE   1.6263 | val MSE  10.3837\n"
     ]
    },
    {
     "name": "stderr",
     "output_type": "stream",
     "text": [
      "Epoch [155/1000]: 100%|██████████| 71/71 [00:00<00:00, 72.32it/s]\n"
     ]
    },
    {
     "name": "stdout",
     "output_type": "stream",
     "text": [
      " train normalized MSE   0.0609 | val normalized MSE   0.1047 | val MAE   1.6474 | val MSE  10.4740\n"
     ]
    },
    {
     "name": "stderr",
     "output_type": "stream",
     "text": [
      "Epoch [156/1000]: 100%|██████████| 71/71 [00:01<00:00, 67.88it/s]\n"
     ]
    },
    {
     "name": "stdout",
     "output_type": "stream",
     "text": [
      " train normalized MSE   0.0620 | val normalized MSE   0.1008 | val MAE   1.6184 | val MSE  10.0842\n"
     ]
    },
    {
     "name": "stderr",
     "output_type": "stream",
     "text": [
      "Epoch [157/1000]: 100%|██████████| 71/71 [00:01<00:00, 66.84it/s]\n"
     ]
    },
    {
     "name": "stdout",
     "output_type": "stream",
     "text": [
      " train normalized MSE   0.0621 | val normalized MSE   0.1001 | val MAE   1.6043 | val MSE  10.0099\n"
     ]
    },
    {
     "name": "stderr",
     "output_type": "stream",
     "text": [
      "Epoch [158/1000]: 100%|██████████| 71/71 [00:01<00:00, 69.10it/s]\n"
     ]
    },
    {
     "name": "stdout",
     "output_type": "stream",
     "text": [
      " train normalized MSE   0.0597 | val normalized MSE   0.0975 | val MAE   1.5719 | val MSE   9.7524\n"
     ]
    },
    {
     "name": "stderr",
     "output_type": "stream",
     "text": [
      "Epoch [159/1000]: 100%|██████████| 71/71 [00:01<00:00, 69.73it/s]\n"
     ]
    },
    {
     "name": "stdout",
     "output_type": "stream",
     "text": [
      " train normalized MSE   0.0587 | val normalized MSE   0.1025 | val MAE   1.5838 | val MSE  10.2469\n"
     ]
    },
    {
     "name": "stderr",
     "output_type": "stream",
     "text": [
      "Epoch [160/1000]: 100%|██████████| 71/71 [00:00<00:00, 71.24it/s]\n"
     ]
    },
    {
     "name": "stdout",
     "output_type": "stream",
     "text": [
      " train normalized MSE   0.0614 | val normalized MSE   0.1000 | val MAE   1.6199 | val MSE   9.9966\n"
     ]
    },
    {
     "name": "stderr",
     "output_type": "stream",
     "text": [
      "Epoch [161/1000]: 100%|██████████| 71/71 [00:00<00:00, 71.70it/s]\n"
     ]
    },
    {
     "name": "stdout",
     "output_type": "stream",
     "text": [
      " train normalized MSE   0.0608 | val normalized MSE   0.1011 | val MAE   1.5907 | val MSE  10.1145\n"
     ]
    },
    {
     "name": "stderr",
     "output_type": "stream",
     "text": [
      "Epoch [162/1000]: 100%|██████████| 71/71 [00:00<00:00, 71.64it/s]\n"
     ]
    },
    {
     "name": "stdout",
     "output_type": "stream",
     "text": [
      " train normalized MSE   0.0611 | val normalized MSE   0.1042 | val MAE   1.6705 | val MSE  10.4171\n"
     ]
    },
    {
     "name": "stderr",
     "output_type": "stream",
     "text": [
      "Epoch [163/1000]: 100%|██████████| 71/71 [00:00<00:00, 71.10it/s]\n"
     ]
    },
    {
     "name": "stdout",
     "output_type": "stream",
     "text": [
      " train normalized MSE   0.0611 | val normalized MSE   0.1021 | val MAE   1.5781 | val MSE  10.2081\n"
     ]
    },
    {
     "name": "stderr",
     "output_type": "stream",
     "text": [
      "Epoch [164/1000]: 100%|██████████| 71/71 [00:00<00:00, 71.38it/s]\n"
     ]
    },
    {
     "name": "stdout",
     "output_type": "stream",
     "text": [
      " train normalized MSE   0.0593 | val normalized MSE   0.1056 | val MAE   1.6257 | val MSE  10.5565\n"
     ]
    },
    {
     "name": "stderr",
     "output_type": "stream",
     "text": [
      "Epoch [165/1000]: 100%|██████████| 71/71 [00:00<00:00, 72.38it/s]\n"
     ]
    },
    {
     "name": "stdout",
     "output_type": "stream",
     "text": [
      " train normalized MSE   0.0605 | val normalized MSE   0.1016 | val MAE   1.5967 | val MSE  10.1622\n"
     ]
    },
    {
     "name": "stderr",
     "output_type": "stream",
     "text": [
      "Epoch [166/1000]: 100%|██████████| 71/71 [00:00<00:00, 72.62it/s]\n"
     ]
    },
    {
     "name": "stdout",
     "output_type": "stream",
     "text": [
      " train normalized MSE   0.0612 | val normalized MSE   0.1030 | val MAE   1.6013 | val MSE  10.3022\n"
     ]
    },
    {
     "name": "stderr",
     "output_type": "stream",
     "text": [
      "Epoch [167/1000]: 100%|██████████| 71/71 [00:00<00:00, 72.49it/s]\n"
     ]
    },
    {
     "name": "stdout",
     "output_type": "stream",
     "text": [
      " train normalized MSE   0.0598 | val normalized MSE   0.0996 | val MAE   1.5772 | val MSE   9.9641\n"
     ]
    },
    {
     "name": "stderr",
     "output_type": "stream",
     "text": [
      "Epoch [168/1000]: 100%|██████████| 71/71 [00:01<00:00, 68.16it/s]\n"
     ]
    },
    {
     "name": "stdout",
     "output_type": "stream",
     "text": [
      " train normalized MSE   0.0588 | val normalized MSE   0.1049 | val MAE   1.6284 | val MSE  10.4889\n"
     ]
    },
    {
     "name": "stderr",
     "output_type": "stream",
     "text": [
      "Epoch [169/1000]: 100%|██████████| 71/71 [00:01<00:00, 69.32it/s]\n"
     ]
    },
    {
     "name": "stdout",
     "output_type": "stream",
     "text": [
      " train normalized MSE   0.0562 | val normalized MSE   0.1058 | val MAE   1.6072 | val MSE  10.5842\n"
     ]
    },
    {
     "name": "stderr",
     "output_type": "stream",
     "text": [
      "Epoch [170/1000]: 100%|██████████| 71/71 [00:00<00:00, 71.04it/s]\n"
     ]
    },
    {
     "name": "stdout",
     "output_type": "stream",
     "text": [
      " train normalized MSE   0.0588 | val normalized MSE   0.1031 | val MAE   1.5927 | val MSE  10.3140\n"
     ]
    },
    {
     "name": "stderr",
     "output_type": "stream",
     "text": [
      "Epoch [171/1000]: 100%|██████████| 71/71 [00:00<00:00, 72.19it/s]\n"
     ]
    },
    {
     "name": "stdout",
     "output_type": "stream",
     "text": [
      " train normalized MSE   0.0589 | val normalized MSE   0.1014 | val MAE   1.5818 | val MSE  10.1397\n"
     ]
    },
    {
     "name": "stderr",
     "output_type": "stream",
     "text": [
      "Epoch [172/1000]: 100%|██████████| 71/71 [00:00<00:00, 72.28it/s]\n"
     ]
    },
    {
     "name": "stdout",
     "output_type": "stream",
     "text": [
      " train normalized MSE   0.0585 | val normalized MSE   0.1023 | val MAE   1.5945 | val MSE  10.2327\n"
     ]
    },
    {
     "name": "stderr",
     "output_type": "stream",
     "text": [
      "Epoch [173/1000]: 100%|██████████| 71/71 [00:00<00:00, 72.10it/s]\n"
     ]
    },
    {
     "name": "stdout",
     "output_type": "stream",
     "text": [
      " train normalized MSE   0.0583 | val normalized MSE   0.1059 | val MAE   1.6905 | val MSE  10.5890\n"
     ]
    },
    {
     "name": "stderr",
     "output_type": "stream",
     "text": [
      "Epoch [174/1000]: 100%|██████████| 71/71 [00:00<00:00, 72.31it/s]\n"
     ]
    },
    {
     "name": "stdout",
     "output_type": "stream",
     "text": [
      " train normalized MSE   0.0584 | val normalized MSE   0.1066 | val MAE   1.6502 | val MSE  10.6643\n"
     ]
    },
    {
     "name": "stderr",
     "output_type": "stream",
     "text": [
      "Epoch [175/1000]: 100%|██████████| 71/71 [00:00<00:00, 72.14it/s]\n"
     ]
    },
    {
     "name": "stdout",
     "output_type": "stream",
     "text": [
      " train normalized MSE   0.0573 | val normalized MSE   0.1061 | val MAE   1.6329 | val MSE  10.6055\n"
     ]
    },
    {
     "name": "stderr",
     "output_type": "stream",
     "text": [
      "Epoch [176/1000]: 100%|██████████| 71/71 [00:01<00:00, 70.71it/s]\n"
     ]
    },
    {
     "name": "stdout",
     "output_type": "stream",
     "text": [
      " train normalized MSE   0.0582 | val normalized MSE   0.1028 | val MAE   1.6151 | val MSE  10.2750\n"
     ]
    },
    {
     "name": "stderr",
     "output_type": "stream",
     "text": [
      "Epoch [177/1000]: 100%|██████████| 71/71 [00:01<00:00, 70.37it/s]\n"
     ]
    },
    {
     "name": "stdout",
     "output_type": "stream",
     "text": [
      " train normalized MSE   0.0560 | val normalized MSE   0.1080 | val MAE   1.6512 | val MSE  10.8049\n"
     ]
    },
    {
     "name": "stderr",
     "output_type": "stream",
     "text": [
      "Epoch [178/1000]: 100%|██████████| 71/71 [00:01<00:00, 70.38it/s]\n"
     ]
    },
    {
     "name": "stdout",
     "output_type": "stream",
     "text": [
      " train normalized MSE   0.0566 | val normalized MSE   0.1020 | val MAE   1.6053 | val MSE  10.1994\n"
     ]
    },
    {
     "name": "stderr",
     "output_type": "stream",
     "text": [
      "Epoch [179/1000]: 100%|██████████| 71/71 [00:00<00:00, 71.38it/s]\n"
     ]
    },
    {
     "name": "stdout",
     "output_type": "stream",
     "text": [
      " train normalized MSE   0.0575 | val normalized MSE   0.1004 | val MAE   1.6332 | val MSE  10.0369\n"
     ]
    },
    {
     "name": "stderr",
     "output_type": "stream",
     "text": [
      "Epoch [180/1000]: 100%|██████████| 71/71 [00:00<00:00, 71.65it/s]\n"
     ]
    },
    {
     "name": "stdout",
     "output_type": "stream",
     "text": [
      " train normalized MSE   0.0575 | val normalized MSE   0.1034 | val MAE   1.6101 | val MSE  10.3416\n"
     ]
    },
    {
     "name": "stderr",
     "output_type": "stream",
     "text": [
      "Epoch [181/1000]: 100%|██████████| 71/71 [00:00<00:00, 72.10it/s]\n"
     ]
    },
    {
     "name": "stdout",
     "output_type": "stream",
     "text": [
      " train normalized MSE   0.0580 | val normalized MSE   0.1046 | val MAE   1.6390 | val MSE  10.4648\n"
     ]
    },
    {
     "name": "stderr",
     "output_type": "stream",
     "text": [
      "Epoch [182/1000]: 100%|██████████| 71/71 [00:00<00:00, 71.80it/s]\n"
     ]
    },
    {
     "name": "stdout",
     "output_type": "stream",
     "text": [
      " train normalized MSE   0.0549 | val normalized MSE   0.1047 | val MAE   1.6218 | val MSE  10.4675\n"
     ]
    },
    {
     "name": "stderr",
     "output_type": "stream",
     "text": [
      "Epoch [183/1000]: 100%|██████████| 71/71 [00:00<00:00, 72.09it/s]\n"
     ]
    },
    {
     "name": "stdout",
     "output_type": "stream",
     "text": [
      " train normalized MSE   0.0574 | val normalized MSE   0.1026 | val MAE   1.5632 | val MSE  10.2607\n"
     ]
    },
    {
     "name": "stderr",
     "output_type": "stream",
     "text": [
      "Epoch [184/1000]: 100%|██████████| 71/71 [00:00<00:00, 71.04it/s]\n"
     ]
    },
    {
     "name": "stdout",
     "output_type": "stream",
     "text": [
      " train normalized MSE   0.0565 | val normalized MSE   0.1062 | val MAE   1.6443 | val MSE  10.6210\n"
     ]
    },
    {
     "name": "stderr",
     "output_type": "stream",
     "text": [
      "Epoch [185/1000]: 100%|██████████| 71/71 [00:01<00:00, 70.66it/s]\n"
     ]
    },
    {
     "name": "stdout",
     "output_type": "stream",
     "text": [
      " train normalized MSE   0.0559 | val normalized MSE   0.1061 | val MAE   1.6458 | val MSE  10.6068\n"
     ]
    },
    {
     "name": "stderr",
     "output_type": "stream",
     "text": [
      "Epoch [186/1000]: 100%|██████████| 71/71 [00:01<00:00, 69.40it/s]\n"
     ]
    },
    {
     "name": "stdout",
     "output_type": "stream",
     "text": [
      " train normalized MSE   0.0552 | val normalized MSE   0.1014 | val MAE   1.6240 | val MSE  10.1362\n"
     ]
    },
    {
     "name": "stderr",
     "output_type": "stream",
     "text": [
      "Epoch [187/1000]: 100%|██████████| 71/71 [00:01<00:00, 70.33it/s]\n"
     ]
    },
    {
     "name": "stdout",
     "output_type": "stream",
     "text": [
      " train normalized MSE   0.0542 | val normalized MSE   0.1069 | val MAE   1.6437 | val MSE  10.6880\n"
     ]
    },
    {
     "name": "stderr",
     "output_type": "stream",
     "text": [
      "Epoch [188/1000]: 100%|██████████| 71/71 [00:00<00:00, 71.77it/s]\n"
     ]
    },
    {
     "name": "stdout",
     "output_type": "stream",
     "text": [
      " train normalized MSE   0.0544 | val normalized MSE   0.1019 | val MAE   1.6076 | val MSE  10.1946\n"
     ]
    },
    {
     "name": "stderr",
     "output_type": "stream",
     "text": [
      "Epoch [189/1000]: 100%|██████████| 71/71 [00:01<00:00, 70.72it/s]\n"
     ]
    },
    {
     "name": "stdout",
     "output_type": "stream",
     "text": [
      " train normalized MSE   0.0546 | val normalized MSE   0.1053 | val MAE   1.6026 | val MSE  10.5301\n"
     ]
    },
    {
     "name": "stderr",
     "output_type": "stream",
     "text": [
      "Epoch [190/1000]: 100%|██████████| 71/71 [00:00<00:00, 72.00it/s]\n"
     ]
    },
    {
     "name": "stdout",
     "output_type": "stream",
     "text": [
      " train normalized MSE   0.0565 | val normalized MSE   0.1061 | val MAE   1.6687 | val MSE  10.6109\n"
     ]
    },
    {
     "name": "stderr",
     "output_type": "stream",
     "text": [
      "Epoch [191/1000]: 100%|██████████| 71/71 [00:00<00:00, 71.32it/s]\n"
     ]
    },
    {
     "name": "stdout",
     "output_type": "stream",
     "text": [
      " train normalized MSE   0.0541 | val normalized MSE   0.1067 | val MAE   1.6626 | val MSE  10.6675\n"
     ]
    },
    {
     "name": "stderr",
     "output_type": "stream",
     "text": [
      "Epoch [192/1000]: 100%|██████████| 71/71 [00:00<00:00, 72.07it/s]\n"
     ]
    },
    {
     "name": "stdout",
     "output_type": "stream",
     "text": [
      " train normalized MSE   0.0539 | val normalized MSE   0.1033 | val MAE   1.5984 | val MSE  10.3344\n"
     ]
    },
    {
     "name": "stderr",
     "output_type": "stream",
     "text": [
      "Epoch [193/1000]: 100%|██████████| 71/71 [00:00<00:00, 72.13it/s]\n"
     ]
    },
    {
     "name": "stdout",
     "output_type": "stream",
     "text": [
      " train normalized MSE   0.0542 | val normalized MSE   0.1057 | val MAE   1.6001 | val MSE  10.5713\n"
     ]
    },
    {
     "name": "stderr",
     "output_type": "stream",
     "text": [
      "Epoch [194/1000]: 100%|██████████| 71/71 [00:01<00:00, 68.07it/s]\n"
     ]
    },
    {
     "name": "stdout",
     "output_type": "stream",
     "text": [
      " train normalized MSE   0.0554 | val normalized MSE   0.1028 | val MAE   1.6041 | val MSE  10.2835\n"
     ]
    },
    {
     "name": "stderr",
     "output_type": "stream",
     "text": [
      "Epoch [195/1000]: 100%|██████████| 71/71 [00:01<00:00, 70.39it/s]\n"
     ]
    },
    {
     "name": "stdout",
     "output_type": "stream",
     "text": [
      " train normalized MSE   0.0545 | val normalized MSE   0.1009 | val MAE   1.5694 | val MSE  10.0934\n"
     ]
    },
    {
     "name": "stderr",
     "output_type": "stream",
     "text": [
      "Epoch [196/1000]: 100%|██████████| 71/71 [00:00<00:00, 71.84it/s]\n"
     ]
    },
    {
     "name": "stdout",
     "output_type": "stream",
     "text": [
      " train normalized MSE   0.0559 | val normalized MSE   0.1041 | val MAE   1.6416 | val MSE  10.4075\n"
     ]
    },
    {
     "name": "stderr",
     "output_type": "stream",
     "text": [
      "Epoch [197/1000]: 100%|██████████| 71/71 [00:00<00:00, 72.02it/s]\n"
     ]
    },
    {
     "name": "stdout",
     "output_type": "stream",
     "text": [
      " train normalized MSE   0.0549 | val normalized MSE   0.1036 | val MAE   1.5964 | val MSE  10.3650\n"
     ]
    },
    {
     "name": "stderr",
     "output_type": "stream",
     "text": [
      "Epoch [198/1000]:  55%|█████▍    | 39/71 [00:00<00:00, 70.20it/s]\n"
     ]
    },
    {
     "ename": "KeyboardInterrupt",
     "evalue": "",
     "output_type": "error",
     "traceback": [
      "\u001b[0;31m---------------------------------------------------------------------------\u001b[0m",
      "\u001b[0;31mKeyboardInterrupt\u001b[0m                         Traceback (most recent call last)",
      "Cell \u001b[0;32mIn[168], line 41\u001b[0m\n\u001b[1;32m     39\u001b[0m loss \u001b[38;5;241m=\u001b[39m lossFn(pred, batchY)\u001b[38;5;241m.\u001b[39mto(device)\n\u001b[1;32m     40\u001b[0m optimizer\u001b[38;5;241m.\u001b[39mzero_grad()\n\u001b[0;32m---> 41\u001b[0m \u001b[43mloss\u001b[49m\u001b[38;5;241;43m.\u001b[39;49m\u001b[43mbackward\u001b[49m\u001b[43m(\u001b[49m\u001b[43m)\u001b[49m\n\u001b[1;32m     42\u001b[0m optimizer\u001b[38;5;241m.\u001b[39mstep()\n\u001b[1;32m     43\u001b[0m runningLoss \u001b[38;5;241m+\u001b[39m\u001b[38;5;241m=\u001b[39m loss\u001b[38;5;241m.\u001b[39mitem()        \n",
      "File \u001b[0;32m/opt/conda/lib/python3.11/site-packages/torch/_tensor.py:522\u001b[0m, in \u001b[0;36mTensor.backward\u001b[0;34m(self, gradient, retain_graph, create_graph, inputs)\u001b[0m\n\u001b[1;32m    512\u001b[0m \u001b[38;5;28;01mif\u001b[39;00m has_torch_function_unary(\u001b[38;5;28mself\u001b[39m):\n\u001b[1;32m    513\u001b[0m     \u001b[38;5;28;01mreturn\u001b[39;00m handle_torch_function(\n\u001b[1;32m    514\u001b[0m         Tensor\u001b[38;5;241m.\u001b[39mbackward,\n\u001b[1;32m    515\u001b[0m         (\u001b[38;5;28mself\u001b[39m,),\n\u001b[0;32m   (...)\u001b[0m\n\u001b[1;32m    520\u001b[0m         inputs\u001b[38;5;241m=\u001b[39minputs,\n\u001b[1;32m    521\u001b[0m     )\n\u001b[0;32m--> 522\u001b[0m \u001b[43mtorch\u001b[49m\u001b[38;5;241;43m.\u001b[39;49m\u001b[43mautograd\u001b[49m\u001b[38;5;241;43m.\u001b[39;49m\u001b[43mbackward\u001b[49m\u001b[43m(\u001b[49m\n\u001b[1;32m    523\u001b[0m \u001b[43m    \u001b[49m\u001b[38;5;28;43mself\u001b[39;49m\u001b[43m,\u001b[49m\u001b[43m \u001b[49m\u001b[43mgradient\u001b[49m\u001b[43m,\u001b[49m\u001b[43m \u001b[49m\u001b[43mretain_graph\u001b[49m\u001b[43m,\u001b[49m\u001b[43m \u001b[49m\u001b[43mcreate_graph\u001b[49m\u001b[43m,\u001b[49m\u001b[43m \u001b[49m\u001b[43minputs\u001b[49m\u001b[38;5;241;43m=\u001b[39;49m\u001b[43minputs\u001b[49m\n\u001b[1;32m    524\u001b[0m \u001b[43m\u001b[49m\u001b[43m)\u001b[49m\n",
      "File \u001b[0;32m/opt/conda/lib/python3.11/site-packages/torch/autograd/__init__.py:266\u001b[0m, in \u001b[0;36mbackward\u001b[0;34m(tensors, grad_tensors, retain_graph, create_graph, grad_variables, inputs)\u001b[0m\n\u001b[1;32m    261\u001b[0m     retain_graph \u001b[38;5;241m=\u001b[39m create_graph\n\u001b[1;32m    263\u001b[0m \u001b[38;5;66;03m# The reason we repeat the same comment below is that\u001b[39;00m\n\u001b[1;32m    264\u001b[0m \u001b[38;5;66;03m# some Python versions print out the first line of a multi-line function\u001b[39;00m\n\u001b[1;32m    265\u001b[0m \u001b[38;5;66;03m# calls in the traceback and some print out the last line\u001b[39;00m\n\u001b[0;32m--> 266\u001b[0m \u001b[43mVariable\u001b[49m\u001b[38;5;241;43m.\u001b[39;49m\u001b[43m_execution_engine\u001b[49m\u001b[38;5;241;43m.\u001b[39;49m\u001b[43mrun_backward\u001b[49m\u001b[43m(\u001b[49m\u001b[43m  \u001b[49m\u001b[38;5;66;43;03m# Calls into the C++ engine to run the backward pass\u001b[39;49;00m\n\u001b[1;32m    267\u001b[0m \u001b[43m    \u001b[49m\u001b[43mtensors\u001b[49m\u001b[43m,\u001b[49m\n\u001b[1;32m    268\u001b[0m \u001b[43m    \u001b[49m\u001b[43mgrad_tensors_\u001b[49m\u001b[43m,\u001b[49m\n\u001b[1;32m    269\u001b[0m \u001b[43m    \u001b[49m\u001b[43mretain_graph\u001b[49m\u001b[43m,\u001b[49m\n\u001b[1;32m    270\u001b[0m \u001b[43m    \u001b[49m\u001b[43mcreate_graph\u001b[49m\u001b[43m,\u001b[49m\n\u001b[1;32m    271\u001b[0m \u001b[43m    \u001b[49m\u001b[43minputs\u001b[49m\u001b[43m,\u001b[49m\n\u001b[1;32m    272\u001b[0m \u001b[43m    \u001b[49m\u001b[43mallow_unreachable\u001b[49m\u001b[38;5;241;43m=\u001b[39;49m\u001b[38;5;28;43;01mTrue\u001b[39;49;00m\u001b[43m,\u001b[49m\n\u001b[1;32m    273\u001b[0m \u001b[43m    \u001b[49m\u001b[43maccumulate_grad\u001b[49m\u001b[38;5;241;43m=\u001b[39;49m\u001b[38;5;28;43;01mTrue\u001b[39;49;00m\u001b[43m,\u001b[49m\n\u001b[1;32m    274\u001b[0m \u001b[43m\u001b[49m\u001b[43m)\u001b[49m\n",
      "\u001b[0;31mKeyboardInterrupt\u001b[0m: "
     ]
    }
   ],
   "source": [
    "epochs = 1000\n",
    "lossFn = nn.MSELoss()\n",
    "optimizer = optim.Adam(model.parameters(), lr=1e-3, weight_decay=1e-4)\n",
    "scheduler = optim.lr_scheduler.StepLR(optimizer, step_size=20, gamma=0.25) # You can try different schedulers\n",
    "best_val_loss = float('inf')\n",
    "best_train_loss = float('inf')\n",
    "\n",
    "for each_epoch in range(epochs):\n",
    "    model.train()\n",
    "    runningLoss = 0.0\n",
    "    loop = tqdm(train_dataloader, desc=f\"Epoch [{each_epoch+1}/{epochs}]\")\n",
    "    scale = 10\n",
    "    for batchX, batchY, origin in loop:\n",
    "        batchX = batchX.to(device, non_blocking=True)   \n",
    "        batchY = batchY.to(device, non_blocking=True)  \n",
    "        origin = origin.to(device, non_blocking=True)  \n",
    "        # print(batchX.shape, batchY.shape, origin.shape)\n",
    "        batchX[..., :2] = batchX[..., :2] - origin.unsqueeze(1).unsqueeze(1)\n",
    "        batchY = batchY - origin.unsqueeze(1)\n",
    "        batchX[..., :4] = batchX[..., :4] / 10\n",
    "        batchY = batchY / 10\n",
    "        pred = model(batchX)\n",
    "        # pred = pred.to(device)\n",
    "        loss = lossFn(pred, batchY).to(device)\n",
    "        optimizer.zero_grad()\n",
    "        loss.backward()\n",
    "        optimizer.step()\n",
    "        runningLoss += loss.item()        \n",
    "        # print(pred.shape)\n",
    "        # break\n",
    "    # break\n",
    "    \n",
    "    model.eval()\n",
    "    val_loss = 0\n",
    "    val_mae = 0\n",
    "    val_mse = 0\n",
    "    with torch.no_grad():\n",
    "        for batchX, batchY, origin in val_dataloader:\n",
    "            batchX = batchX.to(device, non_blocking=True)   \n",
    "            batchY = batchY.to(device, non_blocking=True)  \n",
    "            origin = origin.to(device, non_blocking=True) \n",
    "            # print(batchX.shape, batchY.shape, origin.shape)\n",
    "            batchX[..., :2] = batchX[..., :2] - origin.unsqueeze(1).unsqueeze(1)\n",
    "            batchY = batchY - origin.unsqueeze(1)\n",
    "            batchX[..., :4] = batchX[..., :4] / 10\n",
    "            batchY = batchY / 10\n",
    "            pred = model(batchX)\n",
    "            loss = lossFn(pred, batchY)\n",
    "            \n",
    "            val_loss += loss.item()\n",
    "            # print(pred[0, :5, :2])\n",
    "            # print(pred.shape)    \n",
    "            pred = pred * 10\n",
    "            # print(pred[0, :5, :2])\n",
    "            pred = pred + origin.unsqueeze(1)\n",
    "            # print(pred[0, :5, :2])\n",
    "            batchY_unnorm = batchY * 10 + origin.unsqueeze(1)\n",
    "            val_mae += nn.L1Loss()(pred, batchY_unnorm).item()\n",
    "            val_mse += nn.MSELoss()(pred, batchY_unnorm).item()\n",
    "            \n",
    "    train_loss = runningLoss/len(train_dataloader)\n",
    "    val_loss /= len(val_dataloader)\n",
    "    val_mae /= len(val_dataloader)\n",
    "    val_mse /= len(val_dataloader)\n",
    "    loop.write(f\" train normalized MSE {train_loss:8.4f} | val normalized MSE {val_loss:8.4f} | val MAE {val_mae:8.4f} | val MSE {val_mse:8.4f}\")\n",
    "    scheduler.step()\n",
    "    scheduler.step(val_loss)\n",
    "    \n",
    "    if train_loss < best_train_loss and val_loss < best_val_loss - 1e-3:\n",
    "        best_val_loss = val_loss\n",
    "        best_train_loss = train_loss\n",
    "        no_improvement = 0\n",
    "        torch.save(model.state_dict(), \"./models/modelM/best_model.pt\")\n",
    "    # else:\n",
    "    #     no_improvement += 1\n",
    "    # break\n",
    "    \n",
    "    "
   ]
  },
  {
   "cell_type": "code",
   "execution_count": null,
   "id": "b898abe2-e5ee-40e9-a659-4238338836f2",
   "metadata": {},
   "outputs": [],
   "source": [
    "test_dataset = WindowedNormalizedDataset(testData)\n",
    "test_loader = DataLoader(test_dataset, batch_size=128, shuffle=False)\n",
    "\n",
    "best_model = torch.load(\"./models/modelM/best_model.pt\")\n",
    "model = SimpleModel().to(device)\n",
    "\n",
    "model.load_state_dict(best_model)\n",
    "model.eval()\n",
    "\n",
    "pred_list = []\n",
    "with torch.no_grad():\n",
    "    for batchX, batchY, origin in test_loader:\n",
    "        batchX = batchX.to(device, non_blocking=True)   \n",
    "        batchY = batchY.to(device, non_blocking=True)  \n",
    "        origin = origin.to(device, non_blocking=True) \n",
    "            # print(batchX.shape, batchY.shape, origin.shape)\n",
    "        batchX[..., :2] = batchX[..., :2] - origin.unsqueeze(1).unsqueeze(1)\n",
    "        batchY = batchY - origin.unsqueeze(1)\n",
    "        batchX[..., :4] = batchX[..., :4] / 10\n",
    "        batchY = batchY / 10\n",
    "        pred = model(batchX)\n",
    "            \n",
    "        pred = pred * 10\n",
    "        pred = pred + origin.unsqueeze(1)\n",
    "        # print(pred.shape)\n",
    "        pred_list.append(pred.cpu().numpy())\n",
    "        # print(len(pred))\n",
    "        # break\n",
    "\n",
    "pred_list = np.concatenate(pred_list, axis=0)  \n",
    "pred_output = pred_list.reshape(-1, 2)  # (N*60, 2)\n",
    "output_df = pd.DataFrame(pred_output, columns=['x', 'y'])\n",
    "output_df.index.name = 'index'\n",
    "output_df.to_csv('./models/modelM/test34.csv', index=True)"
   ]
  },
  {
   "cell_type": "code",
   "execution_count": null,
   "id": "e1e0438f-8939-4684-a44c-d28ad1ae9312",
   "metadata": {},
   "outputs": [],
   "source": []
  }
 ],
 "metadata": {
  "kernelspec": {
   "display_name": "pytorch_env",
   "language": "python",
   "name": "python3"
  },
  "language_info": {
   "codemirror_mode": {
    "name": "ipython",
    "version": 3
   },
   "file_extension": ".py",
   "mimetype": "text/x-python",
   "name": "python",
   "nbconvert_exporter": "python",
   "pygments_lexer": "ipython3",
   "version": "3.13.3"
  }
 },
 "nbformat": 4,
 "nbformat_minor": 5
}
