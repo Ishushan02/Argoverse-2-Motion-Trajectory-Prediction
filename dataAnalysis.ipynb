{
 "cells": [
  {
   "cell_type": "code",
   "execution_count": 1,
   "id": "c35b93d0",
   "metadata": {},
   "outputs": [],
   "source": [
    "from read_data import getData\n",
    "import matplotlib.pyplot as plt\n",
    "import numpy as np\n",
    "import torch\n",
    "import torch.nn as nn\n",
    "import torch.optim as optim\n",
    "from torch.utils.data import TensorDataset, DataLoader, Dataset\n",
    "from tqdm import tqdm\n",
    "from sklearn.preprocessing import StandardScaler\n",
    "from read_data import LargeDataset\n",
    "import gc\n",
    "\n",
    "\n"
   ]
  },
  {
   "cell_type": "code",
   "execution_count": 2,
   "id": "651b9bbb",
   "metadata": {},
   "outputs": [
    {
     "name": "stdout",
     "output_type": "stream",
     "text": [
      "Training Data's shape is (10000, 50, 110, 6) and Test Data's is (10000, 50, 110, 6)\n"
     ]
    },
    {
     "data": {
      "text/plain": [
       "((10000, 50, 110, 6), (2100, 50, 50, 6))"
      ]
     },
     "execution_count": 2,
     "metadata": {},
     "output_type": "execute_result"
    }
   ],
   "source": [
    "traindata, testData = getData(\"data\")\n",
    "traindata.shape, testData.shape"
   ]
  },
  {
   "cell_type": "code",
   "execution_count": 3,
   "id": "536134a2",
   "metadata": {},
   "outputs": [],
   "source": [
    "train_mean = np.mean(traindata, axis=(0, 1, 2))\n",
    "train_std = np.std(traindata, axis=(0, 1, 2))\n",
    "train_std = np.where(train_std == 0, 1.0, train_std)"
   ]
  },
  {
   "cell_type": "code",
   "execution_count": 4,
   "id": "00f1212f",
   "metadata": {},
   "outputs": [
    {
     "data": {
      "text/plain": [
       "((610000, 50, 40, 6), (610000, 10, 2))"
      ]
     },
     "execution_count": 4,
     "metadata": {},
     "output_type": "execute_result"
    }
   ],
   "source": [
    "def createDataset(data, window_size = 40, forecast_horizon = 10):\n",
    "    X = []\n",
    "    y = []\n",
    "\n",
    "    for sample in range(data.shape[0]):\n",
    "        for t in range(data.shape[2] - window_size - forecast_horizon + 1):\n",
    "            x_window = data[sample, :, t:t+window_size, :]\n",
    "            y_window = data[sample, 0, t+window_size:t+window_size+forecast_horizon, :2]\n",
    "            \n",
    "            X.append(x_window)\n",
    "            y.append(y_window)\n",
    "    \n",
    "    return np.array(X), np.array(y)\n",
    "\n",
    "\n",
    "X, Y = createDataset(traindata)\n",
    "X.shape, Y.shape"
   ]
  },
  {
   "cell_type": "code",
   "execution_count": 5,
   "id": "b6696bde",
   "metadata": {},
   "outputs": [
    {
     "data": {
      "text/plain": [
       "((10000, 50, 40, 6), (10000, 10, 2))"
      ]
     },
     "execution_count": 5,
     "metadata": {},
     "output_type": "execute_result"
    }
   ],
   "source": [
    "a, b = X[:10000], Y[:10000]\n",
    "a.shape, b.shape"
   ]
  },
  {
   "cell_type": "code",
   "execution_count": 6,
   "id": "ee31b86b",
   "metadata": {},
   "outputs": [],
   "source": [
    "device = torch.device(\"mps\")\n",
    "\n",
    "class SmallNetwork(nn.Module):\n",
    "    def __init__(self):\n",
    "        super().__init__()\n",
    "        self.lstm = nn.LSTM(input_size = 6, hidden_size = 64, num_layers = 5, batch_first = True)\n",
    "        self.batch_norm1 = nn.BatchNorm1d(64)\n",
    "        self.pool = nn.AdaptiveAvgPool1d(10)\n",
    "        self.linear1 = nn.Linear(64, 32)\n",
    "        self.linear2 = nn.Linear(32, 16)\n",
    "        self.linear3 = nn.Linear(16, 2)\n",
    "\n",
    "    def forward(self, x):\n",
    "        x = x.view(x.size(0), -1, x.size(-1))\n",
    "\n",
    "        x, temp = self.lstm(x) # Output shape [batch, seq_len, 64]\n",
    "        x = x.permute(0, 2, 1)  # [batch, 64, seq_len]\n",
    "       \n",
    "\n",
    "        x = self.pool(x)  # Forces output to [batch, 64, 10]\n",
    "        x = self.batch_norm1(x)\n",
    "        x = x.permute(0, 2, 1)  # [batch, 10, 64]\n",
    "        x = self.linear1(x)\n",
    "        x = torch.nn.functional.leaky_relu(x, negative_slope=0.01)\n",
    "        x = self.linear2(x)\n",
    "        x = torch.nn.functional.leaky_relu(x, negative_slope=0.01)\n",
    "        x = self.linear3(x)\n",
    "        return x\n",
    "\n",
    "model = SmallNetwork()\n",
    "# model.to(device)\n",
    "\n",
    "# test = torch.randn(2, 2, 2, 6)\n",
    "# out = model(test)\n",
    "# print(out.shape)"
   ]
  },
  {
   "cell_type": "code",
   "execution_count": 7,
   "id": "0b503d18",
   "metadata": {},
   "outputs": [
    {
     "name": "stderr",
     "output_type": "stream",
     "text": [
      "Epoch [1/100]: 100%|██████████| 79/79 [00:48<00:00,  1.63it/s]\n"
     ]
    },
    {
     "name": "stdout",
     "output_type": "stream",
     "text": [
      "Epoch 1, Training Loss: 11501282.7278\n"
     ]
    },
    {
     "name": "stderr",
     "output_type": "stream",
     "text": [
      "Epoch [2/100]: 100%|██████████| 79/79 [00:46<00:00,  1.70it/s]\n",
      "Epoch [3/100]: 100%|██████████| 79/79 [00:47<00:00,  1.67it/s]\n",
      "Epoch [4/100]: 100%|██████████| 79/79 [00:47<00:00,  1.67it/s]\n",
      "Epoch [5/100]: 100%|██████████| 79/79 [00:49<00:00,  1.60it/s]\n",
      "Epoch [6/100]: 100%|██████████| 79/79 [00:46<00:00,  1.68it/s]\n"
     ]
    },
    {
     "name": "stdout",
     "output_type": "stream",
     "text": [
      "Epoch 6, Training Loss: 11465956.8101\n"
     ]
    },
    {
     "name": "stderr",
     "output_type": "stream",
     "text": [
      "Epoch [7/100]: 100%|██████████| 79/79 [00:46<00:00,  1.70it/s]\n",
      "Epoch [8/100]: 100%|██████████| 79/79 [00:45<00:00,  1.73it/s]\n",
      "Epoch [9/100]: 100%|██████████| 79/79 [00:47<00:00,  1.65it/s]\n",
      "Epoch [10/100]: 100%|██████████| 79/79 [00:46<00:00,  1.70it/s]\n",
      "Epoch [11/100]: 100%|██████████| 79/79 [00:47<00:00,  1.67it/s]\n"
     ]
    },
    {
     "name": "stdout",
     "output_type": "stream",
     "text": [
      "Epoch 11, Training Loss: 11334876.1519\n"
     ]
    },
    {
     "name": "stderr",
     "output_type": "stream",
     "text": [
      "Epoch [12/100]: 100%|██████████| 79/79 [00:46<00:00,  1.69it/s]\n",
      "Epoch [13/100]: 100%|██████████| 79/79 [00:47<00:00,  1.67it/s]\n",
      "Epoch [14/100]: 100%|██████████| 79/79 [00:47<00:00,  1.66it/s]\n",
      "Epoch [15/100]: 100%|██████████| 79/79 [00:46<00:00,  1.69it/s]\n",
      "Epoch [16/100]: 100%|██████████| 79/79 [00:46<00:00,  1.69it/s]\n"
     ]
    },
    {
     "name": "stdout",
     "output_type": "stream",
     "text": [
      "Epoch 16, Training Loss: 11012610.7405\n"
     ]
    },
    {
     "name": "stderr",
     "output_type": "stream",
     "text": [
      "Epoch [17/100]: 100%|██████████| 79/79 [00:46<00:00,  1.69it/s]\n",
      "Epoch [18/100]: 100%|██████████| 79/79 [00:47<00:00,  1.68it/s]\n",
      "Epoch [19/100]: 100%|██████████| 79/79 [00:46<00:00,  1.68it/s]\n",
      "Epoch [20/100]: 100%|██████████| 79/79 [00:47<00:00,  1.67it/s]\n",
      "Epoch [21/100]: 100%|██████████| 79/79 [00:47<00:00,  1.66it/s]\n"
     ]
    },
    {
     "name": "stdout",
     "output_type": "stream",
     "text": [
      "Epoch 21, Training Loss: 10346710.9114\n"
     ]
    },
    {
     "name": "stderr",
     "output_type": "stream",
     "text": [
      "Epoch [22/100]: 100%|██████████| 79/79 [00:47<00:00,  1.65it/s]\n",
      "Epoch [23/100]: 100%|██████████| 79/79 [00:47<00:00,  1.66it/s]\n",
      "Epoch [24/100]: 100%|██████████| 79/79 [00:46<00:00,  1.68it/s]\n",
      "Epoch [25/100]: 100%|██████████| 79/79 [00:47<00:00,  1.68it/s]\n",
      "Epoch [26/100]: 100%|██████████| 79/79 [00:47<00:00,  1.67it/s]\n"
     ]
    },
    {
     "name": "stdout",
     "output_type": "stream",
     "text": [
      "Epoch 26, Training Loss: 9163756.4873\n"
     ]
    },
    {
     "name": "stderr",
     "output_type": "stream",
     "text": [
      "Epoch [27/100]: 100%|██████████| 79/79 [00:47<00:00,  1.68it/s]\n",
      "Epoch [28/100]: 100%|██████████| 79/79 [00:47<00:00,  1.67it/s]\n",
      "Epoch [29/100]: 100%|██████████| 79/79 [00:47<00:00,  1.67it/s]\n",
      "Epoch [30/100]: 100%|██████████| 79/79 [00:47<00:00,  1.67it/s]\n",
      "Epoch [31/100]: 100%|██████████| 79/79 [00:47<00:00,  1.68it/s]\n"
     ]
    },
    {
     "name": "stdout",
     "output_type": "stream",
     "text": [
      "Epoch 31, Training Loss: 9000408.8987\n"
     ]
    },
    {
     "name": "stderr",
     "output_type": "stream",
     "text": [
      "Epoch [32/100]: 100%|██████████| 79/79 [00:47<00:00,  1.67it/s]\n",
      "Epoch [33/100]: 100%|██████████| 79/79 [00:47<00:00,  1.67it/s]\n",
      "Epoch [34/100]: 100%|██████████| 79/79 [00:47<00:00,  1.68it/s]\n",
      "Epoch [35/100]: 100%|██████████| 79/79 [00:47<00:00,  1.67it/s]\n",
      "Epoch [36/100]: 100%|██████████| 79/79 [00:47<00:00,  1.67it/s]\n"
     ]
    },
    {
     "name": "stdout",
     "output_type": "stream",
     "text": [
      "Epoch 36, Training Loss: 8242695.6835\n"
     ]
    },
    {
     "name": "stderr",
     "output_type": "stream",
     "text": [
      "Epoch [37/100]: 100%|██████████| 79/79 [00:48<00:00,  1.64it/s]\n",
      "Epoch [38/100]: 100%|██████████| 79/79 [00:47<00:00,  1.65it/s]\n",
      "Epoch [39/100]: 100%|██████████| 79/79 [00:47<00:00,  1.67it/s]\n",
      "Epoch [40/100]: 100%|██████████| 79/79 [00:47<00:00,  1.65it/s]\n",
      "Epoch [41/100]: 100%|██████████| 79/79 [00:48<00:00,  1.64it/s]\n"
     ]
    },
    {
     "name": "stdout",
     "output_type": "stream",
     "text": [
      "Epoch 41, Training Loss: 7037117.5253\n"
     ]
    },
    {
     "name": "stderr",
     "output_type": "stream",
     "text": [
      "Epoch [42/100]: 100%|██████████| 79/79 [00:48<00:00,  1.62it/s]\n",
      "Epoch [43/100]: 100%|██████████| 79/79 [00:48<00:00,  1.64it/s]\n",
      "Epoch [44/100]: 100%|██████████| 79/79 [00:47<00:00,  1.66it/s]\n",
      "Epoch [45/100]: 100%|██████████| 79/79 [00:47<00:00,  1.68it/s]\n",
      "Epoch [46/100]: 100%|██████████| 79/79 [00:47<00:00,  1.67it/s]\n"
     ]
    },
    {
     "name": "stdout",
     "output_type": "stream",
     "text": [
      "Epoch 46, Training Loss: 6601832.9367\n"
     ]
    },
    {
     "name": "stderr",
     "output_type": "stream",
     "text": [
      "Epoch [47/100]: 100%|██████████| 79/79 [00:46<00:00,  1.69it/s]\n",
      "Epoch [48/100]: 100%|██████████| 79/79 [00:47<00:00,  1.66it/s]\n",
      "Epoch [49/100]: 100%|██████████| 79/79 [00:46<00:00,  1.71it/s]\n",
      "Epoch [50/100]: 100%|██████████| 79/79 [00:46<00:00,  1.71it/s]\n",
      "Epoch [51/100]: 100%|██████████| 79/79 [00:46<00:00,  1.70it/s]\n"
     ]
    },
    {
     "name": "stdout",
     "output_type": "stream",
     "text": [
      "Epoch 51, Training Loss: 6234388.5633\n"
     ]
    },
    {
     "name": "stderr",
     "output_type": "stream",
     "text": [
      "Epoch [52/100]: 100%|██████████| 79/79 [00:46<00:00,  1.71it/s]\n",
      "Epoch [53/100]: 100%|██████████| 79/79 [00:47<00:00,  1.66it/s]\n",
      "Epoch [54/100]: 100%|██████████| 79/79 [00:46<00:00,  1.70it/s]\n",
      "Epoch [55/100]: 100%|██████████| 79/79 [00:46<00:00,  1.69it/s]\n",
      "Epoch [56/100]: 100%|██████████| 79/79 [00:47<00:00,  1.67it/s]\n"
     ]
    },
    {
     "name": "stdout",
     "output_type": "stream",
     "text": [
      "Epoch 56, Training Loss: 4032840.6044\n"
     ]
    },
    {
     "name": "stderr",
     "output_type": "stream",
     "text": [
      "Epoch [57/100]: 100%|██████████| 79/79 [00:45<00:00,  1.74it/s]\n",
      "Epoch [58/100]: 100%|██████████| 79/79 [00:44<00:00,  1.77it/s]\n",
      "Epoch [59/100]: 100%|██████████| 79/79 [08:15<00:00,  6.27s/it]   \n",
      "Epoch [60/100]: 100%|██████████| 79/79 [00:46<00:00,  1.70it/s]\n",
      "Epoch [61/100]: 100%|██████████| 79/79 [00:45<00:00,  1.75it/s]\n"
     ]
    },
    {
     "name": "stdout",
     "output_type": "stream",
     "text": [
      "Epoch 61, Training Loss: 3436684.9715\n"
     ]
    },
    {
     "name": "stderr",
     "output_type": "stream",
     "text": [
      "Epoch [62/100]: 100%|██████████| 79/79 [00:45<00:00,  1.73it/s]\n",
      "Epoch [63/100]: 100%|██████████| 79/79 [00:45<00:00,  1.73it/s]\n",
      "Epoch [64/100]: 100%|██████████| 79/79 [00:45<00:00,  1.72it/s]\n",
      "Epoch [65/100]: 100%|██████████| 79/79 [00:45<00:00,  1.74it/s]\n",
      "Epoch [66/100]: 100%|██████████| 79/79 [00:45<00:00,  1.72it/s]\n"
     ]
    },
    {
     "name": "stdout",
     "output_type": "stream",
     "text": [
      "Epoch 66, Training Loss: 3127214.4019\n"
     ]
    },
    {
     "name": "stderr",
     "output_type": "stream",
     "text": [
      "Epoch [67/100]: 100%|██████████| 79/79 [00:48<00:00,  1.61it/s]\n",
      "Epoch [68/100]: 100%|██████████| 79/79 [00:46<00:00,  1.69it/s]\n",
      "Epoch [69/100]: 100%|██████████| 79/79 [00:46<00:00,  1.70it/s]\n",
      "Epoch [70/100]: 100%|██████████| 79/79 [00:47<00:00,  1.65it/s]\n",
      "Epoch [71/100]: 100%|██████████| 79/79 [00:46<00:00,  1.69it/s]\n"
     ]
    },
    {
     "name": "stdout",
     "output_type": "stream",
     "text": [
      "Epoch 71, Training Loss: 2937235.0807\n"
     ]
    },
    {
     "name": "stderr",
     "output_type": "stream",
     "text": [
      "Epoch [72/100]: 100%|██████████| 79/79 [00:46<00:00,  1.70it/s]\n",
      "Epoch [73/100]: 100%|██████████| 79/79 [00:48<00:00,  1.64it/s]\n",
      "Epoch [74/100]: 100%|██████████| 79/79 [00:49<00:00,  1.58it/s]\n",
      "Epoch [75/100]: 100%|██████████| 79/79 [00:47<00:00,  1.68it/s]\n",
      "Epoch [76/100]: 100%|██████████| 79/79 [00:47<00:00,  1.67it/s]\n"
     ]
    },
    {
     "name": "stdout",
     "output_type": "stream",
     "text": [
      "Epoch 76, Training Loss: 2899833.9161\n"
     ]
    },
    {
     "name": "stderr",
     "output_type": "stream",
     "text": [
      "Epoch [77/100]: 100%|██████████| 79/79 [00:46<00:00,  1.71it/s]\n",
      "Epoch [78/100]: 100%|██████████| 79/79 [00:46<00:00,  1.69it/s]\n",
      "Epoch [79/100]: 100%|██████████| 79/79 [00:46<00:00,  1.69it/s]\n",
      "Epoch [80/100]: 100%|██████████| 79/79 [00:46<00:00,  1.69it/s]\n",
      "Epoch [81/100]: 100%|██████████| 79/79 [00:46<00:00,  1.69it/s]\n"
     ]
    },
    {
     "name": "stdout",
     "output_type": "stream",
     "text": [
      "Epoch 81, Training Loss: 2778107.7737\n"
     ]
    },
    {
     "name": "stderr",
     "output_type": "stream",
     "text": [
      "Epoch [82/100]: 100%|██████████| 79/79 [00:47<00:00,  1.65it/s]\n",
      "Epoch [83/100]: 100%|██████████| 79/79 [00:47<00:00,  1.66it/s]\n",
      "Epoch [84/100]: 100%|██████████| 79/79 [00:46<00:00,  1.71it/s]\n",
      "Epoch [85/100]: 100%|██████████| 79/79 [00:46<00:00,  1.71it/s]\n",
      "Epoch [86/100]: 100%|██████████| 79/79 [00:47<00:00,  1.67it/s]\n"
     ]
    },
    {
     "name": "stdout",
     "output_type": "stream",
     "text": [
      "Epoch 86, Training Loss: 2884849.3180\n"
     ]
    },
    {
     "name": "stderr",
     "output_type": "stream",
     "text": [
      "Epoch [87/100]: 100%|██████████| 79/79 [00:46<00:00,  1.71it/s]\n",
      "Epoch [88/100]: 100%|██████████| 79/79 [00:45<00:00,  1.73it/s]\n",
      "Epoch [89/100]: 100%|██████████| 79/79 [00:46<00:00,  1.69it/s]\n",
      "Epoch [90/100]: 100%|██████████| 79/79 [00:47<00:00,  1.66it/s]\n",
      "Epoch [91/100]: 100%|██████████| 79/79 [00:45<00:00,  1.72it/s]\n"
     ]
    },
    {
     "name": "stdout",
     "output_type": "stream",
     "text": [
      "Epoch 91, Training Loss: 2771577.6709\n"
     ]
    },
    {
     "name": "stderr",
     "output_type": "stream",
     "text": [
      "Epoch [92/100]: 100%|██████████| 79/79 [00:46<00:00,  1.71it/s]\n",
      "Epoch [93/100]: 100%|██████████| 79/79 [00:45<00:00,  1.74it/s]\n",
      "Epoch [94/100]: 100%|██████████| 79/79 [00:45<00:00,  1.72it/s]\n",
      "Epoch [95/100]: 100%|██████████| 79/79 [00:47<00:00,  1.68it/s]\n",
      "Epoch [96/100]: 100%|██████████| 79/79 [00:48<00:00,  1.64it/s]\n"
     ]
    },
    {
     "name": "stdout",
     "output_type": "stream",
     "text": [
      "Epoch 96, Training Loss: 2630476.0190\n"
     ]
    },
    {
     "name": "stderr",
     "output_type": "stream",
     "text": [
      "Epoch [97/100]: 100%|██████████| 79/79 [00:46<00:00,  1.71it/s]\n",
      "Epoch [98/100]: 100%|██████████| 79/79 [00:48<00:00,  1.64it/s]\n",
      "Epoch [99/100]: 100%|██████████| 79/79 [00:47<00:00,  1.68it/s]\n",
      "Epoch [100/100]: 100%|██████████| 79/79 [00:45<00:00,  1.74it/s]\n"
     ]
    }
   ],
   "source": [
    "trainDataset = LargeDataset(a, b, train_mean, train_std) # testing for small dataset a, b\n",
    "trainDataLoader = DataLoader(trainDataset, batch_size=128, shuffle=True, num_workers=2)\n",
    "\n",
    "model.to(device)\n",
    "\n",
    "# Training setup\n",
    "epochs = 100\n",
    "lossFn = nn.MSELoss()\n",
    "optimizer = optim.Adam(model.parameters(), lr=1e-4)\n",
    "\n",
    "for each_epoch in range(epochs):\n",
    "    model.train()\n",
    "    runningLoss = 0.0\n",
    "    loop = tqdm(trainDataLoader, desc=f\"Epoch [{each_epoch+1}/{epochs}]\")\n",
    "\n",
    "    for batchX, batchY in loop:\n",
    "        batchX, batchY = batchX.to(device, non_blocking=True), batchY.to(device, non_blocking=True)\n",
    "        output = model(batchX)\n",
    "        loss = lossFn(output, batchY)\n",
    "        optimizer.zero_grad()\n",
    "        loss.backward()\n",
    "        optimizer.step()\n",
    "        runningLoss += loss.item()\n",
    "\n",
    "    avgLoss = runningLoss / len(trainDataLoader)\n",
    "\n",
    "    if each_epoch % 5 == 0:\n",
    "        torch.save(model.state_dict(), f'./models/small_model_{each_epoch}.pth')\n",
    "        print(f\"Epoch {each_epoch + 1}, Training Loss: {avgLoss:.4f}\")\n"
   ]
  },
  {
   "cell_type": "code",
   "execution_count": null,
   "id": "dfc6704b",
   "metadata": {},
   "outputs": [],
   "source": []
  }
 ],
 "metadata": {
  "kernelspec": {
   "display_name": "pytorch_env",
   "language": "python",
   "name": "python3"
  },
  "language_info": {
   "codemirror_mode": {
    "name": "ipython",
    "version": 3
   },
   "file_extension": ".py",
   "mimetype": "text/x-python",
   "name": "python",
   "nbconvert_exporter": "python",
   "pygments_lexer": "ipython3",
   "version": "3.13.3"
  }
 },
 "nbformat": 4,
 "nbformat_minor": 5
}
