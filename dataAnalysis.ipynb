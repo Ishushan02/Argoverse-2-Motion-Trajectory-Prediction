{
 "cells": [
  {
   "cell_type": "code",
   "execution_count": 2,
   "id": "c35b93d0",
   "metadata": {},
   "outputs": [],
   "source": [
    "from read_data import getData\n",
    "import matplotlib.pyplot as plt\n",
    "import numpy as np\n",
    "import torch\n",
    "import torch.nn as nn\n",
    "import torch.optim as optim\n",
    "from torch.utils.data import TensorDataset, DataLoader\n",
    "import os\n",
    "from tqdm import tqdm\n",
    "from sklearn.preprocessing import StandardScaler\n",
    "\n"
   ]
  },
  {
   "cell_type": "code",
   "execution_count": 3,
   "id": "651b9bbb",
   "metadata": {},
   "outputs": [
    {
     "name": "stdout",
     "output_type": "stream",
     "text": [
      "Training Data's shape is (10000, 50, 110, 6) and Test Data's is (10000, 50, 110, 6)\n"
     ]
    },
    {
     "data": {
      "text/plain": [
       "((10000, 50, 110, 6), (2100, 50, 50, 6))"
      ]
     },
     "execution_count": 3,
     "metadata": {},
     "output_type": "execute_result"
    }
   ],
   "source": [
    "traindata, testData = getData(\"data\")\n",
    "traindata.shape, testData.shape"
   ]
  },
  {
   "cell_type": "code",
   "execution_count": 4,
   "id": "00f1212f",
   "metadata": {},
   "outputs": [],
   "source": [
    "def createDataset(data, windowSize = 40):\n",
    "    X = []\n",
    "    Y = []\n",
    "    for i in range(110 - windowSize):\n",
    "    # print(data[:, :, i:i+windowSize, :].shape, data[:, 0, i+windowSize, :2].shape)\n",
    "        X.append(data[:, :, i:i+windowSize, :])\n",
    "        Y.append(data[:, 0, i+windowSize, :2])\n",
    "    return np.array(X), np.array(Y)\n",
    "\n",
    "\n",
    "X, Y = createDataset(traindata, 40)\n"
   ]
  },
  {
   "cell_type": "code",
   "execution_count": 5,
   "id": "b6696bde",
   "metadata": {},
   "outputs": [
    {
     "data": {
      "text/plain": [
       "((70, 10000, 50, 40, 6), (70, 10000, 2))"
      ]
     },
     "execution_count": 5,
     "metadata": {},
     "output_type": "execute_result"
    }
   ],
   "source": [
    "X.shape, Y.shape"
   ]
  },
  {
   "cell_type": "code",
   "execution_count": 6,
   "id": "06c7f99d",
   "metadata": {},
   "outputs": [
    {
     "data": {
      "text/plain": [
       "((10000, 50, 40, 6), (10000, 2))"
      ]
     },
     "execution_count": 6,
     "metadata": {},
     "output_type": "execute_result"
    }
   ],
   "source": [
    "X[0].shape, Y[0].shape"
   ]
  },
  {
   "cell_type": "code",
   "execution_count": 7,
   "id": "ee31b86b",
   "metadata": {},
   "outputs": [],
   "source": [
    "device = torch.device(\"cpu\")\n",
    "\n",
    "class SmallNetwork(nn.Module):\n",
    "    def __init__(self):\n",
    "        super().__init__()\n",
    "        self.lstm = nn.LSTM(input_size = 6, hidden_size = 64, num_layers = 5, batch_first = True)\n",
    "        self.batch_norm1 = nn.BatchNorm1d(64)\n",
    "        self.pool = nn.AvgPool1d(kernel_size=4, stride=4)\n",
    "        self.linear1 = nn.Linear(64, 32)\n",
    "        self.linear2 = nn.Linear(32, 16)\n",
    "        self.linear3 = nn.Linear(16, 2)\n",
    "\n",
    "    def forward(self, x):\n",
    "        x = x.view(x.size(0), -1, x.size(-1))\n",
    "\n",
    "        x, temp = self.lstm(x)\n",
    "        x = x.permute(0, 2, 1)  # Change shape to [batch, 64, 40] for pooling\n",
    "       \n",
    "\n",
    "        x = self.pool(x)  # After pooling: [batch, 64, 10]\n",
    "        x = self.batch_norm1(x)\n",
    "        x = x.permute(0, 2, 1)  # Revert to [batch, 10, 64]\n",
    "        x = self.linear1(x)\n",
    "        x = torch.nn.functional.leaky_relu(x, negative_slope=0.01)\n",
    "        x = self.linear2(x)\n",
    "        x = torch.nn.functional.leaky_relu(x, negative_slope=0.01)\n",
    "        x = self.linear3(x)\n",
    "        return x\n",
    "\n",
    "model = SmallNetwork()\n",
    "# model.to(device)\n",
    "\n",
    "# test = torch.randn(2, 2, 2, 6)\n",
    "# out = model(test)\n",
    "# print(out.shape)"
   ]
  },
  {
   "cell_type": "code",
   "execution_count": 8,
   "id": "421d1d34",
   "metadata": {},
   "outputs": [
    {
     "ename": "",
     "evalue": "",
     "output_type": "error",
     "traceback": [
      "\u001b[1;31mThe Kernel crashed while executing code in the current cell or a previous cell. \n",
      "\u001b[1;31mPlease review the code in the cell(s) to identify a possible cause of the failure. \n",
      "\u001b[1;31mClick <a href='https://aka.ms/vscodeJupyterKernelCrash'>here</a> for more info. \n",
      "\u001b[1;31mView Jupyter <a href='command:jupyter.viewOutput'>log</a> for further details."
     ]
    }
   ],
   "source": [
    "model.to(device)\n",
    "X_tensor = torch.tensor(X, dtype = torch.float32).to(device)\n",
    "y_tensor = torch.tensor(Y, dtype = torch.float32).to(device)\n",
    "\n",
    "print(X_tensor.shape, y_tensor.shape)\n",
    "\n",
    "trainDataset = TensorDataset(X_tensor, y_tensor)\n",
    "trainDataLoader = DataLoader(trainDataset, batch_size = 256, shuffle = True)\n",
    "\n",
    "epochs = 10\n",
    "lossFn = nn.MSELoss()\n",
    "optimizer = optim.Adam(params = model.parameters(), lr = 1e-4)\n",
    "\n",
    "for each_epoch in range(epochs):\n",
    "    model.train()\n",
    "    runningLoss = 0.0\n",
    "    loop = tqdm(trainDataLoader, desc=f\"Epoch [{each_epoch+1}/{epochs}]\")\n",
    "\n",
    "    for batchX, batchY in loop:\n",
    "        batchX, batchY = batchX.to(device), batchY.to(device)\n",
    "        output = model(batchX)\n",
    "        # print(output.shape, batchY.shape)\n",
    "        # break\n",
    "        loss = lossFn(output, batchY)\n",
    "        optimizer.zero_grad()\n",
    "        loss.backward()\n",
    "        optimizer.step()\n",
    "        runningLoss += loss.item()\n",
    "        # break\n",
    "    avgLoss = runningLoss/len(trainDataLoader)\n",
    "\n",
    "    if each_epoch % 5 == 0:\n",
    "        torch.save(model, f'./models/small_model_{each_epoch}_.pth')\n",
    "\n",
    "    # if each_epoch % 2 == 0:\n",
    "    print(f\" For epoch {each_epoch + 1}, training loss is {avgLoss}\")\n"
   ]
  },
  {
   "cell_type": "code",
   "execution_count": null,
   "id": "3c669c72",
   "metadata": {},
   "outputs": [],
   "source": []
  }
 ],
 "metadata": {
  "kernelspec": {
   "display_name": "pytorch_env",
   "language": "python",
   "name": "python3"
  },
  "language_info": {
   "codemirror_mode": {
    "name": "ipython",
    "version": 3
   },
   "file_extension": ".py",
   "mimetype": "text/x-python",
   "name": "python",
   "nbconvert_exporter": "python",
   "pygments_lexer": "ipython3",
   "version": "3.13.3"
  }
 },
 "nbformat": 4,
 "nbformat_minor": 5
}
